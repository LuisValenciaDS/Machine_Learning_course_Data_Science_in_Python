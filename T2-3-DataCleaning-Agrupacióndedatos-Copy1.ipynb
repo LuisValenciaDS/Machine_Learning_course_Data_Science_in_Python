{
 "cells": [
  {
   "cell_type": "markdown",
   "metadata": {
    "colab_type": "text",
    "id": "view-in-github"
   },
   "source": [
    "<a href=\"https://colab.research.google.com/github/joanby/python-ml-course/blob/Collab---v-3.8/notebooks/T2%20-%203%20-%20Data%20Cleaning%20-%20Agrupaci%C3%B3n%20de%20datos.ipynb\" target=\"_parent\"><img src=\"https://colab.research.google.com/assets/colab-badge.svg\" alt=\"Open In Colab\"/></a>"
   ]
  },
  {
   "cell_type": "markdown",
   "metadata": {
    "colab_type": "text",
    "id": "K2teubACAkRb"
   },
   "source": [
    "# Agregación de datos por categoría"
   ]
  },
  {
   "cell_type": "code",
   "execution_count": 1,
   "metadata": {
    "colab": {},
    "colab_type": "code",
    "id": "VDV8LPSJA61J"
   },
   "outputs": [],
   "source": [
    "#from google.colab import drive\n",
    "#drive.mount('/content/drive')"
   ]
  },
  {
   "cell_type": "code",
   "execution_count": 2,
   "metadata": {
    "colab": {},
    "colab_type": "code",
    "id": "zwuY-TMgAkRc"
   },
   "outputs": [],
   "source": [
    "import numpy as np\n",
    "import pandas as pd"
   ]
  },
  {
   "cell_type": "code",
   "execution_count": 3,
   "metadata": {
    "colab": {},
    "colab_type": "code",
    "id": "0r6-BV-FAkRi"
   },
   "outputs": [],
   "source": [
    "gender = [\"Male\", \"Female\"]\n",
    "income = [\"Poor\", \"Middle Class\", \"Rich\"]"
   ]
  },
  {
   "cell_type": "code",
   "execution_count": 4,
   "metadata": {
    "colab": {},
    "colab_type": "code",
    "id": "dUOu8paRAkRl"
   },
   "outputs": [],
   "source": [
    "n = 500\n",
    "\n",
    "gender_data = []\n",
    "income_data = []\n",
    "\n",
    "for i in range(0,500):\n",
    "    gender_data.append(np.random.choice(gender))\n",
    "    income_data.append(np.random.choice(income))"
   ]
  },
  {
   "cell_type": "code",
   "execution_count": 5,
   "metadata": {
    "colab": {
     "base_uri": "https://localhost:8080/",
     "height": 170
    },
    "colab_type": "code",
    "id": "wz2m3fpuAkRo",
    "outputId": "fe626221-e112-4cdd-cfb3-6d68a36045b8"
   },
   "outputs": [
    {
     "data": {
      "text/plain": [
       "['Female',\n",
       " 'Male',\n",
       " 'Female',\n",
       " 'Female',\n",
       " 'Female',\n",
       " 'Male',\n",
       " 'Male',\n",
       " 'Female',\n",
       " 'Female']"
      ]
     },
     "execution_count": 5,
     "metadata": {},
     "output_type": "execute_result"
    }
   ],
   "source": [
    "gender_data[1:10]"
   ]
  },
  {
   "cell_type": "code",
   "execution_count": 6,
   "metadata": {
    "colab": {
     "base_uri": "https://localhost:8080/",
     "height": 170
    },
    "colab_type": "code",
    "id": "CafW2UzYAkRr",
    "outputId": "748ee054-8376-4ff8-c445-9d4734231046"
   },
   "outputs": [
    {
     "data": {
      "text/plain": [
       "['Rich',\n",
       " 'Rich',\n",
       " 'Rich',\n",
       " 'Poor',\n",
       " 'Middle Class',\n",
       " 'Poor',\n",
       " 'Rich',\n",
       " 'Middle Class',\n",
       " 'Poor']"
      ]
     },
     "execution_count": 6,
     "metadata": {},
     "output_type": "execute_result"
    }
   ],
   "source": [
    "income_data[1:10]"
   ]
  },
  {
   "cell_type": "code",
   "execution_count": 7,
   "metadata": {
    "colab": {},
    "colab_type": "code",
    "id": "Q53rIw03AkRu"
   },
   "outputs": [],
   "source": [
    "#Z -> N(0,1)\n",
    "#N(m, s) -> m + s * Z\n",
    "height = 160 + 30 * np.random.randn(n)\n",
    "weight = 65 + 25 * np.random.randn(n)\n",
    "age = 30 + 12 * np.random.randn(n)\n",
    "income = 18000 + 3500 * np.random.rand(n)"
   ]
  },
  {
   "cell_type": "code",
   "execution_count": 8,
   "metadata": {
    "colab": {},
    "colab_type": "code",
    "id": "tUaeOrqrAkRv"
   },
   "outputs": [],
   "source": [
    "data = pd.DataFrame(\n",
    "    {\n",
    "        \"Gender\" : gender_data,\n",
    "        \"Economic Status\" : income_data,\n",
    "        \"Height\" : height,\n",
    "        \"Weight\" : weight,\n",
    "        \"Age\" : age,\n",
    "        \"Income\" : income\n",
    "    }\n",
    ")"
   ]
  },
  {
   "cell_type": "code",
   "execution_count": 9,
   "metadata": {
    "colab": {
     "base_uri": "https://localhost:8080/",
     "height": 204
    },
    "colab_type": "code",
    "id": "MXeeNF_YAkRx",
    "outputId": "885503b1-4c71-4dea-f6cf-0aefe3c893e6"
   },
   "outputs": [
    {
     "data": {
      "text/html": [
       "<div>\n",
       "<style scoped>\n",
       "    .dataframe tbody tr th:only-of-type {\n",
       "        vertical-align: middle;\n",
       "    }\n",
       "\n",
       "    .dataframe tbody tr th {\n",
       "        vertical-align: top;\n",
       "    }\n",
       "\n",
       "    .dataframe thead th {\n",
       "        text-align: right;\n",
       "    }\n",
       "</style>\n",
       "<table border=\"1\" class=\"dataframe\">\n",
       "  <thead>\n",
       "    <tr style=\"text-align: right;\">\n",
       "      <th></th>\n",
       "      <th>Gender</th>\n",
       "      <th>Economic Status</th>\n",
       "      <th>Height</th>\n",
       "      <th>Weight</th>\n",
       "      <th>Age</th>\n",
       "      <th>Income</th>\n",
       "    </tr>\n",
       "  </thead>\n",
       "  <tbody>\n",
       "    <tr>\n",
       "      <th>0</th>\n",
       "      <td>Female</td>\n",
       "      <td>Rich</td>\n",
       "      <td>69.324306</td>\n",
       "      <td>47.672627</td>\n",
       "      <td>18.547399</td>\n",
       "      <td>19222.681935</td>\n",
       "    </tr>\n",
       "    <tr>\n",
       "      <th>1</th>\n",
       "      <td>Female</td>\n",
       "      <td>Rich</td>\n",
       "      <td>145.522076</td>\n",
       "      <td>77.821049</td>\n",
       "      <td>24.870447</td>\n",
       "      <td>20074.719619</td>\n",
       "    </tr>\n",
       "    <tr>\n",
       "      <th>2</th>\n",
       "      <td>Male</td>\n",
       "      <td>Rich</td>\n",
       "      <td>147.245089</td>\n",
       "      <td>70.998508</td>\n",
       "      <td>49.694107</td>\n",
       "      <td>21444.468067</td>\n",
       "    </tr>\n",
       "    <tr>\n",
       "      <th>3</th>\n",
       "      <td>Female</td>\n",
       "      <td>Rich</td>\n",
       "      <td>118.317611</td>\n",
       "      <td>71.030419</td>\n",
       "      <td>48.346613</td>\n",
       "      <td>19870.736649</td>\n",
       "    </tr>\n",
       "    <tr>\n",
       "      <th>4</th>\n",
       "      <td>Female</td>\n",
       "      <td>Poor</td>\n",
       "      <td>139.205009</td>\n",
       "      <td>57.725157</td>\n",
       "      <td>11.024821</td>\n",
       "      <td>19894.575408</td>\n",
       "    </tr>\n",
       "  </tbody>\n",
       "</table>\n",
       "</div>"
      ],
      "text/plain": [
       "   Gender Economic Status      Height     Weight        Age        Income\n",
       "0  Female            Rich   69.324306  47.672627  18.547399  19222.681935\n",
       "1  Female            Rich  145.522076  77.821049  24.870447  20074.719619\n",
       "2    Male            Rich  147.245089  70.998508  49.694107  21444.468067\n",
       "3  Female            Rich  118.317611  71.030419  48.346613  19870.736649\n",
       "4  Female            Poor  139.205009  57.725157  11.024821  19894.575408"
      ]
     },
     "execution_count": 9,
     "metadata": {},
     "output_type": "execute_result"
    }
   ],
   "source": [
    "data.head()"
   ]
  },
  {
   "cell_type": "markdown",
   "metadata": {
    "colab_type": "text",
    "id": "lcIDvGCfAkRy"
   },
   "source": [
    "## Agrupación de datos"
   ]
  },
  {
   "cell_type": "code",
   "execution_count": 10,
   "metadata": {
    "colab": {},
    "colab_type": "code",
    "id": "b0ejXt6rAkRz"
   },
   "outputs": [],
   "source": [
    "grouped_gender = data.groupby(\"Gender\") # Agrupar por Caracteristicas, EN UNA VARIABLE, es un objeto creado con dos atributos \n",
    "                                        # nobre y grupo,NOMBRE DE LA COLUMNA POR LA VARIABLE CATEGORICA QUE SE DESEA AGRUPAR"
   ]
  },
  {
   "cell_type": "code",
   "execution_count": 11,
   "metadata": {
    "colab": {
     "base_uri": "https://localhost:8080/",
     "height": 153
    },
    "colab_type": "code",
    "id": "aEiG5AFrAkR0",
    "outputId": "474eeb1c-4efa-4ecf-ba8e-1622a786f9cc"
   },
   "outputs": [
    {
     "data": {
      "text/plain": [
       "{'Female': [0, 1, 3, 4, 5, 8, 9, 13, 15, 17, 18, 19, 24, 25, 27, 29, 31, 34, 38, 39, 41, 42, 43, 44, 45, 48, 52, 53, 54, 56, 57, 59, 62, 63, 65, 68, 73, 74, 75, 76, 77, 79, 81, 82, 86, 87, 89, 90, 91, 93, 94, 97, 98, 99, 100, 101, 102, 104, 109, 110, 112, 113, 114, 116, 118, 121, 123, 125, 128, 129, 132, 133, 134, 137, 138, 139, 141, 142, 143, 144, 145, 147, 148, 149, 150, 151, 153, 156, 157, 158, 159, 161, 164, 166, 168, 169, 170, 171, 173, 174, ...], 'Male': [2, 6, 7, 10, 11, 12, 14, 16, 20, 21, 22, 23, 26, 28, 30, 32, 33, 35, 36, 37, 40, 46, 47, 49, 50, 51, 55, 58, 60, 61, 64, 66, 67, 69, 70, 71, 72, 78, 80, 83, 84, 85, 88, 92, 95, 96, 103, 105, 106, 107, 108, 111, 115, 117, 119, 120, 122, 124, 126, 127, 130, 131, 135, 136, 140, 146, 152, 154, 155, 160, 162, 163, 165, 167, 172, 175, 176, 177, 178, 179, 180, 182, 183, 184, 188, 189, 190, 191, 192, 193, 194, 195, 197, 198, 199, 202, 203, 205, 207, 209, ...]}"
      ]
     },
     "execution_count": 11,
     "metadata": {},
     "output_type": "execute_result"
    }
   ],
   "source": [
    "grouped_gender.groups # nombre de la serie a la que pertenece y los numeros de la fila en donde se encuentra el dato"
   ]
  },
  {
   "cell_type": "code",
   "execution_count": 12,
   "metadata": {
    "colab": {
     "base_uri": "https://localhost:8080/",
     "height": 527
    },
    "colab_type": "code",
    "id": "gSVmrowTAkR2",
    "outputId": "95eea914-8b1e-4c3f-ba12-3d28e821ff4b"
   },
   "outputs": [
    {
     "name": "stdout",
     "output_type": "stream",
     "text": [
      "Female\n",
      "     Gender Economic Status      Height      Weight        Age        Income\n",
      "0    Female            Rich   69.324306   47.672627  18.547399  19222.681935\n",
      "1    Female            Rich  145.522076   77.821049  24.870447  20074.719619\n",
      "3    Female            Rich  118.317611   71.030419  48.346613  19870.736649\n",
      "4    Female            Poor  139.205009   57.725157  11.024821  19894.575408\n",
      "5    Female    Middle Class  163.510127   92.106398  44.359551  20370.477991\n",
      "..      ...             ...         ...         ...        ...           ...\n",
      "486  Female            Rich  165.704338   52.140321  23.497118  19363.436837\n",
      "489  Female            Rich  197.417830  110.007567  28.021557  19420.319824\n",
      "494  Female            Poor  177.438727   44.159129  24.554486  20871.057574\n",
      "495  Female            Poor  192.757840   59.901463  58.998749  19039.382940\n",
      "496  Female            Poor  145.728128   59.769271  40.593894  21222.444095\n",
      "\n",
      "[244 rows x 6 columns]\n",
      "Male\n",
      "    Gender Economic Status      Height     Weight        Age        Income\n",
      "2     Male            Rich  147.245089  70.998508  49.694107  21444.468067\n",
      "6     Male            Poor  204.700111  63.389965  27.367378  18821.700061\n",
      "7     Male            Rich  156.231197  97.411441  34.333304  18571.647721\n",
      "10    Male            Rich  168.733972  28.021753  24.123356  19729.968585\n",
      "11    Male            Poor  105.965139  33.091365  33.578595  18810.806869\n",
      "..     ...             ...         ...        ...        ...           ...\n",
      "492   Male            Rich  161.632538  43.798450  18.407100  19173.188659\n",
      "493   Male            Poor  139.750068  43.876481  29.163214  19938.125661\n",
      "497   Male            Rich  149.139589  61.583119  19.507853  18266.359026\n",
      "498   Male            Rich  150.823660  53.694076  41.961355  20497.471766\n",
      "499   Male    Middle Class  142.504615  29.296752  16.604786  19506.866979\n",
      "\n",
      "[256 rows x 6 columns]\n"
     ]
    }
   ],
   "source": [
    "for names, groups in grouped_gender: # iterar sobre cada agrupacion, se puede hacer \n",
    "    print(names)                     # oparaciones separadas por cada uno de los grupos\n",
    "    print(groups)"
   ]
  },
  {
   "cell_type": "code",
   "execution_count": 13,
   "metadata": {
    "colab": {
     "base_uri": "https://localhost:8080/",
     "height": 419
    },
    "colab_type": "code",
    "id": "-eV8DVorAkR3",
    "outputId": "19c4888f-1ffc-47aa-9550-99fc166a5a93"
   },
   "outputs": [
    {
     "data": {
      "text/html": [
       "<div>\n",
       "<style scoped>\n",
       "    .dataframe tbody tr th:only-of-type {\n",
       "        vertical-align: middle;\n",
       "    }\n",
       "\n",
       "    .dataframe tbody tr th {\n",
       "        vertical-align: top;\n",
       "    }\n",
       "\n",
       "    .dataframe thead th {\n",
       "        text-align: right;\n",
       "    }\n",
       "</style>\n",
       "<table border=\"1\" class=\"dataframe\">\n",
       "  <thead>\n",
       "    <tr style=\"text-align: right;\">\n",
       "      <th></th>\n",
       "      <th>Gender</th>\n",
       "      <th>Economic Status</th>\n",
       "      <th>Height</th>\n",
       "      <th>Weight</th>\n",
       "      <th>Age</th>\n",
       "      <th>Income</th>\n",
       "    </tr>\n",
       "  </thead>\n",
       "  <tbody>\n",
       "    <tr>\n",
       "      <th>0</th>\n",
       "      <td>Female</td>\n",
       "      <td>Rich</td>\n",
       "      <td>69.324306</td>\n",
       "      <td>47.672627</td>\n",
       "      <td>18.547399</td>\n",
       "      <td>19222.681935</td>\n",
       "    </tr>\n",
       "    <tr>\n",
       "      <th>1</th>\n",
       "      <td>Female</td>\n",
       "      <td>Rich</td>\n",
       "      <td>145.522076</td>\n",
       "      <td>77.821049</td>\n",
       "      <td>24.870447</td>\n",
       "      <td>20074.719619</td>\n",
       "    </tr>\n",
       "    <tr>\n",
       "      <th>3</th>\n",
       "      <td>Female</td>\n",
       "      <td>Rich</td>\n",
       "      <td>118.317611</td>\n",
       "      <td>71.030419</td>\n",
       "      <td>48.346613</td>\n",
       "      <td>19870.736649</td>\n",
       "    </tr>\n",
       "    <tr>\n",
       "      <th>4</th>\n",
       "      <td>Female</td>\n",
       "      <td>Poor</td>\n",
       "      <td>139.205009</td>\n",
       "      <td>57.725157</td>\n",
       "      <td>11.024821</td>\n",
       "      <td>19894.575408</td>\n",
       "    </tr>\n",
       "    <tr>\n",
       "      <th>5</th>\n",
       "      <td>Female</td>\n",
       "      <td>Middle Class</td>\n",
       "      <td>163.510127</td>\n",
       "      <td>92.106398</td>\n",
       "      <td>44.359551</td>\n",
       "      <td>20370.477991</td>\n",
       "    </tr>\n",
       "    <tr>\n",
       "      <th>...</th>\n",
       "      <td>...</td>\n",
       "      <td>...</td>\n",
       "      <td>...</td>\n",
       "      <td>...</td>\n",
       "      <td>...</td>\n",
       "      <td>...</td>\n",
       "    </tr>\n",
       "    <tr>\n",
       "      <th>486</th>\n",
       "      <td>Female</td>\n",
       "      <td>Rich</td>\n",
       "      <td>165.704338</td>\n",
       "      <td>52.140321</td>\n",
       "      <td>23.497118</td>\n",
       "      <td>19363.436837</td>\n",
       "    </tr>\n",
       "    <tr>\n",
       "      <th>489</th>\n",
       "      <td>Female</td>\n",
       "      <td>Rich</td>\n",
       "      <td>197.417830</td>\n",
       "      <td>110.007567</td>\n",
       "      <td>28.021557</td>\n",
       "      <td>19420.319824</td>\n",
       "    </tr>\n",
       "    <tr>\n",
       "      <th>494</th>\n",
       "      <td>Female</td>\n",
       "      <td>Poor</td>\n",
       "      <td>177.438727</td>\n",
       "      <td>44.159129</td>\n",
       "      <td>24.554486</td>\n",
       "      <td>20871.057574</td>\n",
       "    </tr>\n",
       "    <tr>\n",
       "      <th>495</th>\n",
       "      <td>Female</td>\n",
       "      <td>Poor</td>\n",
       "      <td>192.757840</td>\n",
       "      <td>59.901463</td>\n",
       "      <td>58.998749</td>\n",
       "      <td>19039.382940</td>\n",
       "    </tr>\n",
       "    <tr>\n",
       "      <th>496</th>\n",
       "      <td>Female</td>\n",
       "      <td>Poor</td>\n",
       "      <td>145.728128</td>\n",
       "      <td>59.769271</td>\n",
       "      <td>40.593894</td>\n",
       "      <td>21222.444095</td>\n",
       "    </tr>\n",
       "  </tbody>\n",
       "</table>\n",
       "<p>244 rows × 6 columns</p>\n",
       "</div>"
      ],
      "text/plain": [
       "     Gender Economic Status      Height      Weight        Age        Income\n",
       "0    Female            Rich   69.324306   47.672627  18.547399  19222.681935\n",
       "1    Female            Rich  145.522076   77.821049  24.870447  20074.719619\n",
       "3    Female            Rich  118.317611   71.030419  48.346613  19870.736649\n",
       "4    Female            Poor  139.205009   57.725157  11.024821  19894.575408\n",
       "5    Female    Middle Class  163.510127   92.106398  44.359551  20370.477991\n",
       "..      ...             ...         ...         ...        ...           ...\n",
       "486  Female            Rich  165.704338   52.140321  23.497118  19363.436837\n",
       "489  Female            Rich  197.417830  110.007567  28.021557  19420.319824\n",
       "494  Female            Poor  177.438727   44.159129  24.554486  20871.057574\n",
       "495  Female            Poor  192.757840   59.901463  58.998749  19039.382940\n",
       "496  Female            Poor  145.728128   59.769271  40.593894  21222.444095\n",
       "\n",
       "[244 rows x 6 columns]"
      ]
     },
     "execution_count": 13,
     "metadata": {},
     "output_type": "execute_result"
    }
   ],
   "source": [
    "grouped_gender.get_group(\"Female\") # solo obtener la agupacion por una variable categorica"
   ]
  },
  {
   "cell_type": "code",
   "execution_count": 14,
   "metadata": {
    "colab": {},
    "colab_type": "code",
    "id": "cSzGIkkTAkR4"
   },
   "outputs": [],
   "source": [
    "double_group = data.groupby([\"Gender\", \"Economic Status\"]) # agrupacion por mas de una categoria \n",
    "                                                           # 2 cat de genero * 3 cate economi = 6"
   ]
  },
  {
   "cell_type": "code",
   "execution_count": 15,
   "metadata": {
    "colab": {
     "base_uri": "https://localhost:8080/",
     "height": 34
    },
    "colab_type": "code",
    "id": "ZQLuFUejAkR6",
    "outputId": "d42b8dad-d4aa-4be4-ee8c-71e6f15568f2"
   },
   "outputs": [
    {
     "data": {
      "text/plain": [
       "6"
      ]
     },
     "execution_count": 15,
     "metadata": {},
     "output_type": "execute_result"
    }
   ],
   "source": [
    "len(double_group) # confirma el numero de grupos que hay en el objeto"
   ]
  },
  {
   "cell_type": "code",
   "execution_count": 16,
   "metadata": {
    "colab": {
     "base_uri": "https://localhost:8080/",
     "height": 1000
    },
    "colab_type": "code",
    "id": "Eho6KDzUAkR7",
    "outputId": "a641a83c-cdcd-49d2-8c9b-c7f333a246d1"
   },
   "outputs": [
    {
     "name": "stdout",
     "output_type": "stream",
     "text": [
      "('Female', 'Middle Class')\n",
      "     Gender Economic Status      Height      Weight        Age        Income\n",
      "5    Female    Middle Class  163.510127   92.106398  44.359551  20370.477991\n",
      "8    Female    Middle Class  100.093355   22.143352  37.278507  19264.891765\n",
      "13   Female    Middle Class  170.298776   72.268265  45.883761  18213.947649\n",
      "27   Female    Middle Class  130.544658   72.170803  10.369254  21028.786689\n",
      "31   Female    Middle Class  152.998067  108.895682  44.134314  19030.330725\n",
      "..      ...             ...         ...         ...        ...           ...\n",
      "444  Female    Middle Class  141.176910   39.158041  32.644310  20476.159452\n",
      "450  Female    Middle Class  187.725347   93.851409  38.781300  20409.569375\n",
      "464  Female    Middle Class  177.773578  120.443147  12.465106  18707.941329\n",
      "475  Female    Middle Class  182.538100   62.422896  27.210803  18289.922815\n",
      "483  Female    Middle Class  164.688655   61.742466  30.055932  18060.105403\n",
      "\n",
      "[77 rows x 6 columns]\n",
      "('Female', 'Poor')\n",
      "     Gender Economic Status      Height     Weight        Age        Income\n",
      "4    Female            Poor  139.205009  57.725157  11.024821  19894.575408\n",
      "9    Female            Poor  196.275715  63.524262  36.763711  18792.323383\n",
      "15   Female            Poor  153.944631  88.979945  14.736616  21165.003037\n",
      "18   Female            Poor  108.107251  87.717476  28.767888  21389.459574\n",
      "24   Female            Poor  181.830973  73.415975  36.678428  21310.548914\n",
      "..      ...             ...         ...        ...        ...           ...\n",
      "465  Female            Poor  133.271985  12.141687  14.616973  20293.381398\n",
      "473  Female            Poor  124.205826  39.094868  48.463862  18026.506193\n",
      "494  Female            Poor  177.438727  44.159129  24.554486  20871.057574\n",
      "495  Female            Poor  192.757840  59.901463  58.998749  19039.382940\n",
      "496  Female            Poor  145.728128  59.769271  40.593894  21222.444095\n",
      "\n",
      "[86 rows x 6 columns]\n",
      "('Female', 'Rich')\n",
      "     Gender Economic Status      Height      Weight        Age        Income\n",
      "0    Female            Rich   69.324306   47.672627  18.547399  19222.681935\n",
      "1    Female            Rich  145.522076   77.821049  24.870447  20074.719619\n",
      "3    Female            Rich  118.317611   71.030419  48.346613  19870.736649\n",
      "17   Female            Rich  174.793578  102.081634  44.273103  20895.061096\n",
      "19   Female            Rich  167.800316   66.600320  36.819668  19502.925233\n",
      "..      ...             ...         ...         ...        ...           ...\n",
      "476  Female            Rich  187.209377   77.360534  54.440944  20459.824218\n",
      "481  Female            Rich  126.050901   63.624358  31.721654  21315.473774\n",
      "485  Female            Rich  178.618213   28.033225  -4.460257  21481.058793\n",
      "486  Female            Rich  165.704338   52.140321  23.497118  19363.436837\n",
      "489  Female            Rich  197.417830  110.007567  28.021557  19420.319824\n",
      "\n",
      "[81 rows x 6 columns]\n",
      "('Male', 'Middle Class')\n",
      "    Gender Economic Status      Height      Weight        Age        Income\n",
      "16    Male    Middle Class  174.240880   71.361520  44.238198  18060.664207\n",
      "26    Male    Middle Class  166.815364   46.781527  30.000858  19797.390970\n",
      "30    Male    Middle Class  167.372878   25.394860  24.572407  21355.753274\n",
      "32    Male    Middle Class  181.874685  109.504162  43.839395  20230.422727\n",
      "35    Male    Middle Class  175.497650   88.519424  42.380636  18182.820468\n",
      "..     ...             ...         ...         ...        ...           ...\n",
      "469   Male    Middle Class  111.796779   18.385351  10.664569  20362.074186\n",
      "482   Male    Middle Class  169.378930   43.538752  20.209194  18010.982283\n",
      "487   Male    Middle Class  197.290117   97.748148  20.149158  19471.717655\n",
      "491   Male    Middle Class   96.685492   66.786687  22.053552  18205.970706\n",
      "499   Male    Middle Class  142.504615   29.296752  16.604786  19506.866979\n",
      "\n",
      "[79 rows x 6 columns]\n",
      "('Male', 'Poor')\n",
      "    Gender Economic Status      Height      Weight        Age        Income\n",
      "6     Male            Poor  204.700111   63.389965  27.367378  18821.700061\n",
      "11    Male            Poor  105.965139   33.091365  33.578595  18810.806869\n",
      "14    Male            Poor  193.381412  120.591409  37.000808  18887.072868\n",
      "21    Male            Poor  163.006386   69.359108  14.772303  19597.493754\n",
      "23    Male            Poor  186.297308   96.358828  15.810609  20276.344312\n",
      "..     ...             ...         ...         ...        ...           ...\n",
      "478   Male            Poor  130.617414   52.015828  32.774093  20477.393242\n",
      "480   Male            Poor  118.046927   45.357404  38.931278  18499.992976\n",
      "484   Male            Poor  133.608113   34.101485  38.245392  18781.969944\n",
      "488   Male            Poor  178.474651   53.004651  40.095234  18804.220087\n",
      "493   Male            Poor  139.750068   43.876481  29.163214  19938.125661\n",
      "\n",
      "[83 rows x 6 columns]\n",
      "('Male', 'Rich')\n",
      "    Gender Economic Status      Height     Weight        Age        Income\n",
      "2     Male            Rich  147.245089  70.998508  49.694107  21444.468067\n",
      "7     Male            Rich  156.231197  97.411441  34.333304  18571.647721\n",
      "10    Male            Rich  168.733972  28.021753  24.123356  19729.968585\n",
      "12    Male            Rich  154.174998  75.676174  24.230647  20085.532006\n",
      "20    Male            Rich  155.617601  62.557460  21.150867  20811.168307\n",
      "..     ...             ...         ...        ...        ...           ...\n",
      "479   Male            Rich  187.619268  70.867936   6.681424  20142.159757\n",
      "490   Male            Rich  187.224173 -25.324681  27.218502  20301.279243\n",
      "492   Male            Rich  161.632538  43.798450  18.407100  19173.188659\n",
      "497   Male            Rich  149.139589  61.583119  19.507853  18266.359026\n",
      "498   Male            Rich  150.823660  53.694076  41.961355  20497.471766\n",
      "\n",
      "[94 rows x 6 columns]\n"
     ]
    }
   ],
   "source": [
    "for names, groups in double_group: # Recorrer el objetos por cada grupo interno\n",
    "    print(names)\n",
    "    print(groups)"
   ]
  },
  {
   "cell_type": "markdown",
   "metadata": {},
   "source": [
    "# Fin del video 52 \n",
    "\n",
    "# Inicio del video 53. Agregacion de datos"
   ]
  },
  {
   "cell_type": "markdown",
   "metadata": {
    "colab_type": "text",
    "id": "bt-jzYaOAkR8"
   },
   "source": [
    "## Operaciones sobre datos agrupados"
   ]
  },
  {
   "cell_type": "markdown",
   "metadata": {},
   "source": [
    "Agrgar= aplicar una operacion aritmetica o una forerma de describir o calcular, promedios desviacion tipica de los datos. Aplicar una funcion a todos y cada uno de los gfrupos y obtener un resultado para el grupo estudiadio"
   ]
  },
  {
   "cell_type": "code",
   "execution_count": 17,
   "metadata": {
    "colab": {
     "base_uri": "https://localhost:8080/",
     "height": 266
    },
    "colab_type": "code",
    "id": "IALClhg8AkR8",
    "outputId": "6f13982b-30f8-46c1-84c0-f7d82500c562"
   },
   "outputs": [
    {
     "data": {
      "text/html": [
       "<div>\n",
       "<style scoped>\n",
       "    .dataframe tbody tr th:only-of-type {\n",
       "        vertical-align: middle;\n",
       "    }\n",
       "\n",
       "    .dataframe tbody tr th {\n",
       "        vertical-align: top;\n",
       "    }\n",
       "\n",
       "    .dataframe thead th {\n",
       "        text-align: right;\n",
       "    }\n",
       "</style>\n",
       "<table border=\"1\" class=\"dataframe\">\n",
       "  <thead>\n",
       "    <tr style=\"text-align: right;\">\n",
       "      <th></th>\n",
       "      <th></th>\n",
       "      <th>Height</th>\n",
       "      <th>Weight</th>\n",
       "      <th>Age</th>\n",
       "      <th>Income</th>\n",
       "    </tr>\n",
       "    <tr>\n",
       "      <th>Gender</th>\n",
       "      <th>Economic Status</th>\n",
       "      <th></th>\n",
       "      <th></th>\n",
       "      <th></th>\n",
       "      <th></th>\n",
       "    </tr>\n",
       "  </thead>\n",
       "  <tbody>\n",
       "    <tr>\n",
       "      <th rowspan=\"3\" valign=\"top\">Female</th>\n",
       "      <th>Middle Class</th>\n",
       "      <td>12167.855453</td>\n",
       "      <td>5177.115763</td>\n",
       "      <td>2308.556237</td>\n",
       "      <td>1.509012e+06</td>\n",
       "    </tr>\n",
       "    <tr>\n",
       "      <th>Poor</th>\n",
       "      <td>13570.802159</td>\n",
       "      <td>5643.530044</td>\n",
       "      <td>2573.849415</td>\n",
       "      <td>1.705446e+06</td>\n",
       "    </tr>\n",
       "    <tr>\n",
       "      <th>Rich</th>\n",
       "      <td>12990.181397</td>\n",
       "      <td>5313.643948</td>\n",
       "      <td>2497.289533</td>\n",
       "      <td>1.603190e+06</td>\n",
       "    </tr>\n",
       "    <tr>\n",
       "      <th rowspan=\"3\" valign=\"top\">Male</th>\n",
       "      <th>Middle Class</th>\n",
       "      <td>13011.267148</td>\n",
       "      <td>4857.601057</td>\n",
       "      <td>2285.395023</td>\n",
       "      <td>1.557908e+06</td>\n",
       "    </tr>\n",
       "    <tr>\n",
       "      <th>Poor</th>\n",
       "      <td>13074.356796</td>\n",
       "      <td>5189.317871</td>\n",
       "      <td>2570.707990</td>\n",
       "      <td>1.632896e+06</td>\n",
       "    </tr>\n",
       "    <tr>\n",
       "      <th>Rich</th>\n",
       "      <td>15134.741725</td>\n",
       "      <td>6221.425852</td>\n",
       "      <td>2854.896796</td>\n",
       "      <td>1.850336e+06</td>\n",
       "    </tr>\n",
       "  </tbody>\n",
       "</table>\n",
       "</div>"
      ],
      "text/plain": [
       "                              Height       Weight          Age        Income\n",
       "Gender Economic Status                                                      \n",
       "Female Middle Class     12167.855453  5177.115763  2308.556237  1.509012e+06\n",
       "       Poor             13570.802159  5643.530044  2573.849415  1.705446e+06\n",
       "       Rich             12990.181397  5313.643948  2497.289533  1.603190e+06\n",
       "Male   Middle Class     13011.267148  4857.601057  2285.395023  1.557908e+06\n",
       "       Poor             13074.356796  5189.317871  2570.707990  1.632896e+06\n",
       "       Rich             15134.741725  6221.425852  2854.896796  1.850336e+06"
      ]
     },
     "execution_count": 17,
     "metadata": {},
     "output_type": "execute_result"
    }
   ],
   "source": [
    "double_group.sum() # suma de las categorias general de todo el dataframe"
   ]
  },
  {
   "cell_type": "code",
   "execution_count": 18,
   "metadata": {
    "colab": {
     "base_uri": "https://localhost:8080/",
     "height": 266
    },
    "colab_type": "code",
    "id": "XIG-ViIKAkR-",
    "outputId": "daa9cbd7-3175-49a8-ff93-92d29ca6f55b"
   },
   "outputs": [
    {
     "data": {
      "text/html": [
       "<div>\n",
       "<style scoped>\n",
       "    .dataframe tbody tr th:only-of-type {\n",
       "        vertical-align: middle;\n",
       "    }\n",
       "\n",
       "    .dataframe tbody tr th {\n",
       "        vertical-align: top;\n",
       "    }\n",
       "\n",
       "    .dataframe thead th {\n",
       "        text-align: right;\n",
       "    }\n",
       "</style>\n",
       "<table border=\"1\" class=\"dataframe\">\n",
       "  <thead>\n",
       "    <tr style=\"text-align: right;\">\n",
       "      <th></th>\n",
       "      <th></th>\n",
       "      <th>Height</th>\n",
       "      <th>Weight</th>\n",
       "      <th>Age</th>\n",
       "      <th>Income</th>\n",
       "    </tr>\n",
       "    <tr>\n",
       "      <th>Gender</th>\n",
       "      <th>Economic Status</th>\n",
       "      <th></th>\n",
       "      <th></th>\n",
       "      <th></th>\n",
       "      <th></th>\n",
       "    </tr>\n",
       "  </thead>\n",
       "  <tbody>\n",
       "    <tr>\n",
       "      <th rowspan=\"3\" valign=\"top\">Female</th>\n",
       "      <th>Middle Class</th>\n",
       "      <td>158.024097</td>\n",
       "      <td>67.235270</td>\n",
       "      <td>29.981250</td>\n",
       "      <td>19597.559234</td>\n",
       "    </tr>\n",
       "    <tr>\n",
       "      <th>Poor</th>\n",
       "      <td>157.800025</td>\n",
       "      <td>65.622442</td>\n",
       "      <td>29.928482</td>\n",
       "      <td>19830.768109</td>\n",
       "    </tr>\n",
       "    <tr>\n",
       "      <th>Rich</th>\n",
       "      <td>160.372610</td>\n",
       "      <td>65.600543</td>\n",
       "      <td>30.830735</td>\n",
       "      <td>19792.474815</td>\n",
       "    </tr>\n",
       "    <tr>\n",
       "      <th rowspan=\"3\" valign=\"top\">Male</th>\n",
       "      <th>Middle Class</th>\n",
       "      <td>164.699584</td>\n",
       "      <td>61.488621</td>\n",
       "      <td>28.929051</td>\n",
       "      <td>19720.352129</td>\n",
       "    </tr>\n",
       "    <tr>\n",
       "      <th>Poor</th>\n",
       "      <td>157.522371</td>\n",
       "      <td>62.521902</td>\n",
       "      <td>30.972385</td>\n",
       "      <td>19673.440735</td>\n",
       "    </tr>\n",
       "    <tr>\n",
       "      <th>Rich</th>\n",
       "      <td>161.007891</td>\n",
       "      <td>66.185381</td>\n",
       "      <td>30.371243</td>\n",
       "      <td>19684.427828</td>\n",
       "    </tr>\n",
       "  </tbody>\n",
       "</table>\n",
       "</div>"
      ],
      "text/plain": [
       "                            Height     Weight        Age        Income\n",
       "Gender Economic Status                                                \n",
       "Female Middle Class     158.024097  67.235270  29.981250  19597.559234\n",
       "       Poor             157.800025  65.622442  29.928482  19830.768109\n",
       "       Rich             160.372610  65.600543  30.830735  19792.474815\n",
       "Male   Middle Class     164.699584  61.488621  28.929051  19720.352129\n",
       "       Poor             157.522371  62.521902  30.972385  19673.440735\n",
       "       Rich             161.007891  66.185381  30.371243  19684.427828"
      ]
     },
     "execution_count": 18,
     "metadata": {},
     "output_type": "execute_result"
    }
   ],
   "source": [
    "double_group.mean()# promedio de las categorias general de todo el dataframe"
   ]
  },
  {
   "cell_type": "code",
   "execution_count": 19,
   "metadata": {
    "colab": {
     "base_uri": "https://localhost:8080/",
     "height": 153
    },
    "colab_type": "code",
    "id": "Dp6clyJuAkR_",
    "outputId": "c43dbc59-2358-4e5e-a662-7ffad3e3b1a0"
   },
   "outputs": [
    {
     "data": {
      "text/plain": [
       "Gender  Economic Status\n",
       "Female  Middle Class       77\n",
       "        Poor               86\n",
       "        Rich               81\n",
       "Male    Middle Class       79\n",
       "        Poor               83\n",
       "        Rich               94\n",
       "dtype: int64"
      ]
     },
     "execution_count": 19,
     "metadata": {},
     "output_type": "execute_result"
    }
   ],
   "source": [
    "double_group.size() # funcion tamano, para conocer el numero de elemtos de cada categoria"
   ]
  },
  {
   "cell_type": "code",
   "execution_count": 20,
   "metadata": {
    "colab": {
     "base_uri": "https://localhost:8080/",
     "height": 368
    },
    "colab_type": "code",
    "id": "MVRQed0CAkSA",
    "outputId": "9d2c6adf-a3c6-41d6-b728-3a9fbcc5902a"
   },
   "outputs": [
    {
     "data": {
      "text/html": [
       "<div>\n",
       "<style scoped>\n",
       "    .dataframe tbody tr th:only-of-type {\n",
       "        vertical-align: middle;\n",
       "    }\n",
       "\n",
       "    .dataframe tbody tr th {\n",
       "        vertical-align: top;\n",
       "    }\n",
       "\n",
       "    .dataframe thead tr th {\n",
       "        text-align: left;\n",
       "    }\n",
       "\n",
       "    .dataframe thead tr:last-of-type th {\n",
       "        text-align: right;\n",
       "    }\n",
       "</style>\n",
       "<table border=\"1\" class=\"dataframe\">\n",
       "  <thead>\n",
       "    <tr>\n",
       "      <th></th>\n",
       "      <th></th>\n",
       "      <th colspan=\"8\" halign=\"left\">Height</th>\n",
       "      <th colspan=\"2\" halign=\"left\">Weight</th>\n",
       "      <th>...</th>\n",
       "      <th colspan=\"2\" halign=\"left\">Age</th>\n",
       "      <th colspan=\"8\" halign=\"left\">Income</th>\n",
       "    </tr>\n",
       "    <tr>\n",
       "      <th></th>\n",
       "      <th></th>\n",
       "      <th>count</th>\n",
       "      <th>mean</th>\n",
       "      <th>std</th>\n",
       "      <th>min</th>\n",
       "      <th>25%</th>\n",
       "      <th>50%</th>\n",
       "      <th>75%</th>\n",
       "      <th>max</th>\n",
       "      <th>count</th>\n",
       "      <th>mean</th>\n",
       "      <th>...</th>\n",
       "      <th>75%</th>\n",
       "      <th>max</th>\n",
       "      <th>count</th>\n",
       "      <th>mean</th>\n",
       "      <th>std</th>\n",
       "      <th>min</th>\n",
       "      <th>25%</th>\n",
       "      <th>50%</th>\n",
       "      <th>75%</th>\n",
       "      <th>max</th>\n",
       "    </tr>\n",
       "    <tr>\n",
       "      <th>Gender</th>\n",
       "      <th>Economic Status</th>\n",
       "      <th></th>\n",
       "      <th></th>\n",
       "      <th></th>\n",
       "      <th></th>\n",
       "      <th></th>\n",
       "      <th></th>\n",
       "      <th></th>\n",
       "      <th></th>\n",
       "      <th></th>\n",
       "      <th></th>\n",
       "      <th></th>\n",
       "      <th></th>\n",
       "      <th></th>\n",
       "      <th></th>\n",
       "      <th></th>\n",
       "      <th></th>\n",
       "      <th></th>\n",
       "      <th></th>\n",
       "      <th></th>\n",
       "      <th></th>\n",
       "      <th></th>\n",
       "    </tr>\n",
       "  </thead>\n",
       "  <tbody>\n",
       "    <tr>\n",
       "      <th rowspan=\"3\" valign=\"top\">Female</th>\n",
       "      <th>Middle Class</th>\n",
       "      <td>77.0</td>\n",
       "      <td>158.024097</td>\n",
       "      <td>31.364766</td>\n",
       "      <td>76.916128</td>\n",
       "      <td>139.378876</td>\n",
       "      <td>162.547848</td>\n",
       "      <td>182.379323</td>\n",
       "      <td>211.581392</td>\n",
       "      <td>77.0</td>\n",
       "      <td>67.235270</td>\n",
       "      <td>...</td>\n",
       "      <td>39.280951</td>\n",
       "      <td>58.573423</td>\n",
       "      <td>77.0</td>\n",
       "      <td>19597.559234</td>\n",
       "      <td>1047.878944</td>\n",
       "      <td>18016.812440</td>\n",
       "      <td>18686.122017</td>\n",
       "      <td>19587.591825</td>\n",
       "      <td>20409.569375</td>\n",
       "      <td>21361.211982</td>\n",
       "    </tr>\n",
       "    <tr>\n",
       "      <th>Poor</th>\n",
       "      <td>86.0</td>\n",
       "      <td>157.800025</td>\n",
       "      <td>32.956936</td>\n",
       "      <td>91.399570</td>\n",
       "      <td>132.678359</td>\n",
       "      <td>157.841794</td>\n",
       "      <td>177.414679</td>\n",
       "      <td>251.583726</td>\n",
       "      <td>86.0</td>\n",
       "      <td>65.622442</td>\n",
       "      <td>...</td>\n",
       "      <td>39.473264</td>\n",
       "      <td>58.998749</td>\n",
       "      <td>86.0</td>\n",
       "      <td>19830.768109</td>\n",
       "      <td>1145.876307</td>\n",
       "      <td>18026.506193</td>\n",
       "      <td>18750.195473</td>\n",
       "      <td>19896.341039</td>\n",
       "      <td>20957.172306</td>\n",
       "      <td>21496.666279</td>\n",
       "    </tr>\n",
       "    <tr>\n",
       "      <th>Rich</th>\n",
       "      <td>81.0</td>\n",
       "      <td>160.372610</td>\n",
       "      <td>30.455998</td>\n",
       "      <td>69.324306</td>\n",
       "      <td>136.980367</td>\n",
       "      <td>165.244584</td>\n",
       "      <td>187.209377</td>\n",
       "      <td>224.325239</td>\n",
       "      <td>81.0</td>\n",
       "      <td>65.600543</td>\n",
       "      <td>...</td>\n",
       "      <td>38.993110</td>\n",
       "      <td>59.447611</td>\n",
       "      <td>81.0</td>\n",
       "      <td>19792.474815</td>\n",
       "      <td>1074.611894</td>\n",
       "      <td>18053.774276</td>\n",
       "      <td>18896.379065</td>\n",
       "      <td>19578.690956</td>\n",
       "      <td>20831.359816</td>\n",
       "      <td>21481.058793</td>\n",
       "    </tr>\n",
       "    <tr>\n",
       "      <th rowspan=\"3\" valign=\"top\">Male</th>\n",
       "      <th>Middle Class</th>\n",
       "      <td>79.0</td>\n",
       "      <td>164.699584</td>\n",
       "      <td>28.178481</td>\n",
       "      <td>96.685492</td>\n",
       "      <td>146.182857</td>\n",
       "      <td>167.195491</td>\n",
       "      <td>180.593614</td>\n",
       "      <td>235.651824</td>\n",
       "      <td>79.0</td>\n",
       "      <td>61.488621</td>\n",
       "      <td>...</td>\n",
       "      <td>35.423105</td>\n",
       "      <td>54.647652</td>\n",
       "      <td>79.0</td>\n",
       "      <td>19720.352129</td>\n",
       "      <td>1061.480026</td>\n",
       "      <td>18010.982283</td>\n",
       "      <td>18824.023268</td>\n",
       "      <td>19732.349761</td>\n",
       "      <td>20594.967870</td>\n",
       "      <td>21478.490527</td>\n",
       "    </tr>\n",
       "    <tr>\n",
       "      <th>Poor</th>\n",
       "      <td>83.0</td>\n",
       "      <td>157.522371</td>\n",
       "      <td>30.986417</td>\n",
       "      <td>90.572710</td>\n",
       "      <td>133.423549</td>\n",
       "      <td>155.646339</td>\n",
       "      <td>177.540694</td>\n",
       "      <td>246.772402</td>\n",
       "      <td>83.0</td>\n",
       "      <td>62.521902</td>\n",
       "      <td>...</td>\n",
       "      <td>40.113535</td>\n",
       "      <td>61.593418</td>\n",
       "      <td>83.0</td>\n",
       "      <td>19673.440735</td>\n",
       "      <td>1032.337906</td>\n",
       "      <td>18038.419352</td>\n",
       "      <td>18815.635888</td>\n",
       "      <td>19557.421263</td>\n",
       "      <td>20584.546546</td>\n",
       "      <td>21443.917015</td>\n",
       "    </tr>\n",
       "    <tr>\n",
       "      <th>Rich</th>\n",
       "      <td>94.0</td>\n",
       "      <td>161.007891</td>\n",
       "      <td>27.304429</td>\n",
       "      <td>103.682713</td>\n",
       "      <td>140.979486</td>\n",
       "      <td>159.227266</td>\n",
       "      <td>177.296157</td>\n",
       "      <td>227.842527</td>\n",
       "      <td>94.0</td>\n",
       "      <td>66.185381</td>\n",
       "      <td>...</td>\n",
       "      <td>40.012361</td>\n",
       "      <td>58.241250</td>\n",
       "      <td>94.0</td>\n",
       "      <td>19684.427828</td>\n",
       "      <td>958.014623</td>\n",
       "      <td>18020.220649</td>\n",
       "      <td>18904.711568</td>\n",
       "      <td>19604.944621</td>\n",
       "      <td>20489.419373</td>\n",
       "      <td>21480.223387</td>\n",
       "    </tr>\n",
       "  </tbody>\n",
       "</table>\n",
       "<p>6 rows × 32 columns</p>\n",
       "</div>"
      ],
      "text/plain": [
       "                       Height                                                 \\\n",
       "                        count        mean        std         min         25%   \n",
       "Gender Economic Status                                                         \n",
       "Female Middle Class      77.0  158.024097  31.364766   76.916128  139.378876   \n",
       "       Poor              86.0  157.800025  32.956936   91.399570  132.678359   \n",
       "       Rich              81.0  160.372610  30.455998   69.324306  136.980367   \n",
       "Male   Middle Class      79.0  164.699584  28.178481   96.685492  146.182857   \n",
       "       Poor              83.0  157.522371  30.986417   90.572710  133.423549   \n",
       "       Rich              94.0  161.007891  27.304429  103.682713  140.979486   \n",
       "\n",
       "                                                           Weight             \\\n",
       "                               50%         75%         max  count       mean   \n",
       "Gender Economic Status                                                         \n",
       "Female Middle Class     162.547848  182.379323  211.581392   77.0  67.235270   \n",
       "       Poor             157.841794  177.414679  251.583726   86.0  65.622442   \n",
       "       Rich             165.244584  187.209377  224.325239   81.0  65.600543   \n",
       "Male   Middle Class     167.195491  180.593614  235.651824   79.0  61.488621   \n",
       "       Poor             155.646339  177.540694  246.772402   83.0  62.521902   \n",
       "       Rich             159.227266  177.296157  227.842527   94.0  66.185381   \n",
       "\n",
       "                        ...        Age            Income                \\\n",
       "                        ...        75%        max  count          mean   \n",
       "Gender Economic Status  ...                                              \n",
       "Female Middle Class     ...  39.280951  58.573423   77.0  19597.559234   \n",
       "       Poor             ...  39.473264  58.998749   86.0  19830.768109   \n",
       "       Rich             ...  38.993110  59.447611   81.0  19792.474815   \n",
       "Male   Middle Class     ...  35.423105  54.647652   79.0  19720.352129   \n",
       "       Poor             ...  40.113535  61.593418   83.0  19673.440735   \n",
       "       Rich             ...  40.012361  58.241250   94.0  19684.427828   \n",
       "\n",
       "                                                                               \\\n",
       "                                std           min           25%           50%   \n",
       "Gender Economic Status                                                          \n",
       "Female Middle Class     1047.878944  18016.812440  18686.122017  19587.591825   \n",
       "       Poor             1145.876307  18026.506193  18750.195473  19896.341039   \n",
       "       Rich             1074.611894  18053.774276  18896.379065  19578.690956   \n",
       "Male   Middle Class     1061.480026  18010.982283  18824.023268  19732.349761   \n",
       "       Poor             1032.337906  18038.419352  18815.635888  19557.421263   \n",
       "       Rich              958.014623  18020.220649  18904.711568  19604.944621   \n",
       "\n",
       "                                                    \n",
       "                                 75%           max  \n",
       "Gender Economic Status                              \n",
       "Female Middle Class     20409.569375  21361.211982  \n",
       "       Poor             20957.172306  21496.666279  \n",
       "       Rich             20831.359816  21481.058793  \n",
       "Male   Middle Class     20594.967870  21478.490527  \n",
       "       Poor             20584.546546  21443.917015  \n",
       "       Rich             20489.419373  21480.223387  \n",
       "\n",
       "[6 rows x 32 columns]"
      ]
     },
     "execution_count": 20,
     "metadata": {},
     "output_type": "execute_result"
    }
   ],
   "source": [
    "double_group.describe() # funcion discribe para obtener los estadisticos basicos de los grupos"
   ]
  },
  {
   "cell_type": "code",
   "execution_count": 21,
   "metadata": {
    "colab": {},
    "colab_type": "code",
    "id": "m0tze5dCAkSB"
   },
   "outputs": [],
   "source": [
    "grouped_income = double_group[\"Income\"] # objetos grupbbite se comporta como culaquier otro dataset sin agrupar, \n",
    "                                        # Seleccionar una colukmna de los datos ya agrupados"
   ]
  },
  {
   "cell_type": "code",
   "execution_count": 22,
   "metadata": {
    "colab": {
     "base_uri": "https://localhost:8080/",
     "height": 266
    },
    "colab_type": "code",
    "id": "GnO4smZWAkSC",
    "outputId": "d6a8c7d5-a0fd-4dbd-c1a3-252531f0dde2"
   },
   "outputs": [
    {
     "data": {
      "text/html": [
       "<div>\n",
       "<style scoped>\n",
       "    .dataframe tbody tr th:only-of-type {\n",
       "        vertical-align: middle;\n",
       "    }\n",
       "\n",
       "    .dataframe tbody tr th {\n",
       "        vertical-align: top;\n",
       "    }\n",
       "\n",
       "    .dataframe thead th {\n",
       "        text-align: right;\n",
       "    }\n",
       "</style>\n",
       "<table border=\"1\" class=\"dataframe\">\n",
       "  <thead>\n",
       "    <tr style=\"text-align: right;\">\n",
       "      <th></th>\n",
       "      <th></th>\n",
       "      <th>count</th>\n",
       "      <th>mean</th>\n",
       "      <th>std</th>\n",
       "      <th>min</th>\n",
       "      <th>25%</th>\n",
       "      <th>50%</th>\n",
       "      <th>75%</th>\n",
       "      <th>max</th>\n",
       "    </tr>\n",
       "    <tr>\n",
       "      <th>Gender</th>\n",
       "      <th>Economic Status</th>\n",
       "      <th></th>\n",
       "      <th></th>\n",
       "      <th></th>\n",
       "      <th></th>\n",
       "      <th></th>\n",
       "      <th></th>\n",
       "      <th></th>\n",
       "      <th></th>\n",
       "    </tr>\n",
       "  </thead>\n",
       "  <tbody>\n",
       "    <tr>\n",
       "      <th rowspan=\"3\" valign=\"top\">Female</th>\n",
       "      <th>Middle Class</th>\n",
       "      <td>77.0</td>\n",
       "      <td>19597.559234</td>\n",
       "      <td>1047.878944</td>\n",
       "      <td>18016.812440</td>\n",
       "      <td>18686.122017</td>\n",
       "      <td>19587.591825</td>\n",
       "      <td>20409.569375</td>\n",
       "      <td>21361.211982</td>\n",
       "    </tr>\n",
       "    <tr>\n",
       "      <th>Poor</th>\n",
       "      <td>86.0</td>\n",
       "      <td>19830.768109</td>\n",
       "      <td>1145.876307</td>\n",
       "      <td>18026.506193</td>\n",
       "      <td>18750.195473</td>\n",
       "      <td>19896.341039</td>\n",
       "      <td>20957.172306</td>\n",
       "      <td>21496.666279</td>\n",
       "    </tr>\n",
       "    <tr>\n",
       "      <th>Rich</th>\n",
       "      <td>81.0</td>\n",
       "      <td>19792.474815</td>\n",
       "      <td>1074.611894</td>\n",
       "      <td>18053.774276</td>\n",
       "      <td>18896.379065</td>\n",
       "      <td>19578.690956</td>\n",
       "      <td>20831.359816</td>\n",
       "      <td>21481.058793</td>\n",
       "    </tr>\n",
       "    <tr>\n",
       "      <th rowspan=\"3\" valign=\"top\">Male</th>\n",
       "      <th>Middle Class</th>\n",
       "      <td>79.0</td>\n",
       "      <td>19720.352129</td>\n",
       "      <td>1061.480026</td>\n",
       "      <td>18010.982283</td>\n",
       "      <td>18824.023268</td>\n",
       "      <td>19732.349761</td>\n",
       "      <td>20594.967870</td>\n",
       "      <td>21478.490527</td>\n",
       "    </tr>\n",
       "    <tr>\n",
       "      <th>Poor</th>\n",
       "      <td>83.0</td>\n",
       "      <td>19673.440735</td>\n",
       "      <td>1032.337906</td>\n",
       "      <td>18038.419352</td>\n",
       "      <td>18815.635888</td>\n",
       "      <td>19557.421263</td>\n",
       "      <td>20584.546546</td>\n",
       "      <td>21443.917015</td>\n",
       "    </tr>\n",
       "    <tr>\n",
       "      <th>Rich</th>\n",
       "      <td>94.0</td>\n",
       "      <td>19684.427828</td>\n",
       "      <td>958.014623</td>\n",
       "      <td>18020.220649</td>\n",
       "      <td>18904.711568</td>\n",
       "      <td>19604.944621</td>\n",
       "      <td>20489.419373</td>\n",
       "      <td>21480.223387</td>\n",
       "    </tr>\n",
       "  </tbody>\n",
       "</table>\n",
       "</div>"
      ],
      "text/plain": [
       "                        count          mean          std           min  \\\n",
       "Gender Economic Status                                                   \n",
       "Female Middle Class      77.0  19597.559234  1047.878944  18016.812440   \n",
       "       Poor              86.0  19830.768109  1145.876307  18026.506193   \n",
       "       Rich              81.0  19792.474815  1074.611894  18053.774276   \n",
       "Male   Middle Class      79.0  19720.352129  1061.480026  18010.982283   \n",
       "       Poor              83.0  19673.440735  1032.337906  18038.419352   \n",
       "       Rich              94.0  19684.427828   958.014623  18020.220649   \n",
       "\n",
       "                                 25%           50%           75%           max  \n",
       "Gender Economic Status                                                          \n",
       "Female Middle Class     18686.122017  19587.591825  20409.569375  21361.211982  \n",
       "       Poor             18750.195473  19896.341039  20957.172306  21496.666279  \n",
       "       Rich             18896.379065  19578.690956  20831.359816  21481.058793  \n",
       "Male   Middle Class     18824.023268  19732.349761  20594.967870  21478.490527  \n",
       "       Poor             18815.635888  19557.421263  20584.546546  21443.917015  \n",
       "       Rich             18904.711568  19604.944621  20489.419373  21480.223387  "
      ]
     },
     "execution_count": 22,
     "metadata": {},
     "output_type": "execute_result"
    }
   ],
   "source": [
    "grouped_income.describe() # descripcion de la vcariable objeto de agrupacion"
   ]
  },
  {
   "cell_type": "markdown",
   "metadata": {},
   "source": [
    "## Metodo aggregate es una modificacion de grupbyte sirve para agregar y calcular los valores conjuntoamente de interes"
   ]
  },
  {
   "cell_type": "code",
   "execution_count": 23,
   "metadata": {
    "colab": {
     "base_uri": "https://localhost:8080/",
     "height": 266
    },
    "colab_type": "code",
    "id": "kc8V5PfaAkSD",
    "outputId": "82aef21c-a5f8-4c6b-f7a8-fb80786af5bd"
   },
   "outputs": [
    {
     "data": {
      "text/html": [
       "<div>\n",
       "<style scoped>\n",
       "    .dataframe tbody tr th:only-of-type {\n",
       "        vertical-align: middle;\n",
       "    }\n",
       "\n",
       "    .dataframe tbody tr th {\n",
       "        vertical-align: top;\n",
       "    }\n",
       "\n",
       "    .dataframe thead th {\n",
       "        text-align: right;\n",
       "    }\n",
       "</style>\n",
       "<table border=\"1\" class=\"dataframe\">\n",
       "  <thead>\n",
       "    <tr style=\"text-align: right;\">\n",
       "      <th></th>\n",
       "      <th></th>\n",
       "      <th>Income</th>\n",
       "      <th>Age</th>\n",
       "      <th>Height</th>\n",
       "    </tr>\n",
       "    <tr>\n",
       "      <th>Gender</th>\n",
       "      <th>Economic Status</th>\n",
       "      <th></th>\n",
       "      <th></th>\n",
       "      <th></th>\n",
       "    </tr>\n",
       "  </thead>\n",
       "  <tbody>\n",
       "    <tr>\n",
       "      <th rowspan=\"3\" valign=\"top\">Female</th>\n",
       "      <th>Middle Class</th>\n",
       "      <td>1.509012e+06</td>\n",
       "      <td>29.981250</td>\n",
       "      <td>31.364766</td>\n",
       "    </tr>\n",
       "    <tr>\n",
       "      <th>Poor</th>\n",
       "      <td>1.705446e+06</td>\n",
       "      <td>29.928482</td>\n",
       "      <td>32.956936</td>\n",
       "    </tr>\n",
       "    <tr>\n",
       "      <th>Rich</th>\n",
       "      <td>1.603190e+06</td>\n",
       "      <td>30.830735</td>\n",
       "      <td>30.455998</td>\n",
       "    </tr>\n",
       "    <tr>\n",
       "      <th rowspan=\"3\" valign=\"top\">Male</th>\n",
       "      <th>Middle Class</th>\n",
       "      <td>1.557908e+06</td>\n",
       "      <td>28.929051</td>\n",
       "      <td>28.178481</td>\n",
       "    </tr>\n",
       "    <tr>\n",
       "      <th>Poor</th>\n",
       "      <td>1.632896e+06</td>\n",
       "      <td>30.972385</td>\n",
       "      <td>30.986417</td>\n",
       "    </tr>\n",
       "    <tr>\n",
       "      <th>Rich</th>\n",
       "      <td>1.850336e+06</td>\n",
       "      <td>30.371243</td>\n",
       "      <td>27.304429</td>\n",
       "    </tr>\n",
       "  </tbody>\n",
       "</table>\n",
       "</div>"
      ],
      "text/plain": [
       "                              Income        Age     Height\n",
       "Gender Economic Status                                    \n",
       "Female Middle Class     1.509012e+06  29.981250  31.364766\n",
       "       Poor             1.705446e+06  29.928482  32.956936\n",
       "       Rich             1.603190e+06  30.830735  30.455998\n",
       "Male   Middle Class     1.557908e+06  28.929051  28.178481\n",
       "       Poor             1.632896e+06  30.972385  30.986417\n",
       "       Rich             1.850336e+06  30.371243  27.304429"
      ]
     },
     "execution_count": 23,
     "metadata": {},
     "output_type": "execute_result"
    }
   ],
   "source": [
    "double_group.aggregate(\n",
    "    {\n",
    "        \"Income\": np.sum, # suma de los ingresos\n",
    "        \"Age\" : np.mean, # promedio de las edades\n",
    "        \"Height\" : np.std # Desviacion estandadr de las alturas\n",
    "    }\n",
    ")\n",
    "# Por cada celda de respuesta se tuene que en la columna income esta la suma de los ingresos dividido por la fila de \n",
    "# caracterizacion y asi susesivamente cpor cada columna."
   ]
  },
  {
   "cell_type": "markdown",
   "metadata": {},
   "source": [
    "### Metodo landa, establece un tipo de claculo espesifico\n",
    " Tipificacion de la edad = media de la edad dividido por la dfesviacion tipica - promedio de las edades y su desviacion tipica"
   ]
  },
  {
   "cell_type": "code",
   "execution_count": 24,
   "metadata": {
    "colab": {
     "base_uri": "https://localhost:8080/",
     "height": 266
    },
    "colab_type": "code",
    "id": "hjThnV4yAkSE",
    "outputId": "c70ed120-8fc1-4f01-ca77-fe33e8518a11"
   },
   "outputs": [
    {
     "data": {
      "text/html": [
       "<div>\n",
       "<style scoped>\n",
       "    .dataframe tbody tr th:only-of-type {\n",
       "        vertical-align: middle;\n",
       "    }\n",
       "\n",
       "    .dataframe tbody tr th {\n",
       "        vertical-align: top;\n",
       "    }\n",
       "\n",
       "    .dataframe thead th {\n",
       "        text-align: right;\n",
       "    }\n",
       "</style>\n",
       "<table border=\"1\" class=\"dataframe\">\n",
       "  <thead>\n",
       "    <tr style=\"text-align: right;\">\n",
       "      <th></th>\n",
       "      <th></th>\n",
       "      <th>Age</th>\n",
       "      <th>Height</th>\n",
       "    </tr>\n",
       "    <tr>\n",
       "      <th>Gender</th>\n",
       "      <th>Economic Status</th>\n",
       "      <th></th>\n",
       "      <th></th>\n",
       "    </tr>\n",
       "  </thead>\n",
       "  <tbody>\n",
       "    <tr>\n",
       "      <th rowspan=\"3\" valign=\"top\">Female</th>\n",
       "      <th>Middle Class</th>\n",
       "      <td>29.981250</td>\n",
       "      <td>5.071306</td>\n",
       "    </tr>\n",
       "    <tr>\n",
       "      <th>Poor</th>\n",
       "      <td>29.928482</td>\n",
       "      <td>4.816150</td>\n",
       "    </tr>\n",
       "    <tr>\n",
       "      <th>Rich</th>\n",
       "      <td>30.830735</td>\n",
       "      <td>5.298524</td>\n",
       "    </tr>\n",
       "    <tr>\n",
       "      <th rowspan=\"3\" valign=\"top\">Male</th>\n",
       "      <th>Middle Class</th>\n",
       "      <td>28.929051</td>\n",
       "      <td>5.882219</td>\n",
       "    </tr>\n",
       "    <tr>\n",
       "      <th>Poor</th>\n",
       "      <td>30.972385</td>\n",
       "      <td>5.114498</td>\n",
       "    </tr>\n",
       "    <tr>\n",
       "      <th>Rich</th>\n",
       "      <td>30.371243</td>\n",
       "      <td>5.928387</td>\n",
       "    </tr>\n",
       "  </tbody>\n",
       "</table>\n",
       "</div>"
      ],
      "text/plain": [
       "                              Age    Height\n",
       "Gender Economic Status                     \n",
       "Female Middle Class     29.981250  5.071306\n",
       "       Poor             29.928482  4.816150\n",
       "       Rich             30.830735  5.298524\n",
       "Male   Middle Class     28.929051  5.882219\n",
       "       Poor             30.972385  5.114498\n",
       "       Rich             30.371243  5.928387"
      ]
     },
     "execution_count": 24,
     "metadata": {},
     "output_type": "execute_result"
    }
   ],
   "source": [
    "# Aplicar funciones para una variable categorica\n",
    "double_group.aggregate( \n",
    "    {\n",
    "        \"Age\" : np.mean,\n",
    "        \"Height\" : lambda h:(np.mean(h))/np.std(h) # h es la variable que se esta trabajando de Height\n",
    "    }\n",
    ")"
   ]
  },
  {
   "cell_type": "code",
   "execution_count": 25,
   "metadata": {
    "colab": {
     "base_uri": "https://localhost:8080/",
     "height": 297
    },
    "colab_type": "code",
    "id": "SGx9EOlFAkSF",
    "outputId": "46b278df-a199-4cd5-bb95-aff120b6ac43"
   },
   "outputs": [
    {
     "data": {
      "text/html": [
       "<div>\n",
       "<style scoped>\n",
       "    .dataframe tbody tr th:only-of-type {\n",
       "        vertical-align: middle;\n",
       "    }\n",
       "\n",
       "    .dataframe tbody tr th {\n",
       "        vertical-align: top;\n",
       "    }\n",
       "\n",
       "    .dataframe thead tr th {\n",
       "        text-align: left;\n",
       "    }\n",
       "\n",
       "    .dataframe thead tr:last-of-type th {\n",
       "        text-align: right;\n",
       "    }\n",
       "</style>\n",
       "<table border=\"1\" class=\"dataframe\">\n",
       "  <thead>\n",
       "    <tr>\n",
       "      <th></th>\n",
       "      <th></th>\n",
       "      <th colspan=\"3\" halign=\"left\">Height</th>\n",
       "      <th colspan=\"3\" halign=\"left\">Weight</th>\n",
       "      <th colspan=\"3\" halign=\"left\">Age</th>\n",
       "      <th colspan=\"3\" halign=\"left\">Income</th>\n",
       "    </tr>\n",
       "    <tr>\n",
       "      <th></th>\n",
       "      <th></th>\n",
       "      <th>sum</th>\n",
       "      <th>mean</th>\n",
       "      <th>std</th>\n",
       "      <th>sum</th>\n",
       "      <th>mean</th>\n",
       "      <th>std</th>\n",
       "      <th>sum</th>\n",
       "      <th>mean</th>\n",
       "      <th>std</th>\n",
       "      <th>sum</th>\n",
       "      <th>mean</th>\n",
       "      <th>std</th>\n",
       "    </tr>\n",
       "    <tr>\n",
       "      <th>Gender</th>\n",
       "      <th>Economic Status</th>\n",
       "      <th></th>\n",
       "      <th></th>\n",
       "      <th></th>\n",
       "      <th></th>\n",
       "      <th></th>\n",
       "      <th></th>\n",
       "      <th></th>\n",
       "      <th></th>\n",
       "      <th></th>\n",
       "      <th></th>\n",
       "      <th></th>\n",
       "      <th></th>\n",
       "    </tr>\n",
       "  </thead>\n",
       "  <tbody>\n",
       "    <tr>\n",
       "      <th rowspan=\"3\" valign=\"top\">Female</th>\n",
       "      <th>Middle Class</th>\n",
       "      <td>12167.855453</td>\n",
       "      <td>158.024097</td>\n",
       "      <td>31.364766</td>\n",
       "      <td>5177.115763</td>\n",
       "      <td>67.235270</td>\n",
       "      <td>25.817348</td>\n",
       "      <td>2308.556237</td>\n",
       "      <td>29.981250</td>\n",
       "      <td>13.071575</td>\n",
       "      <td>1.509012e+06</td>\n",
       "      <td>19597.559234</td>\n",
       "      <td>1047.878944</td>\n",
       "    </tr>\n",
       "    <tr>\n",
       "      <th>Poor</th>\n",
       "      <td>13570.802159</td>\n",
       "      <td>157.800025</td>\n",
       "      <td>32.956936</td>\n",
       "      <td>5643.530044</td>\n",
       "      <td>65.622442</td>\n",
       "      <td>24.604891</td>\n",
       "      <td>2573.849415</td>\n",
       "      <td>29.928482</td>\n",
       "      <td>12.460938</td>\n",
       "      <td>1.705446e+06</td>\n",
       "      <td>19830.768109</td>\n",
       "      <td>1145.876307</td>\n",
       "    </tr>\n",
       "    <tr>\n",
       "      <th>Rich</th>\n",
       "      <td>12990.181397</td>\n",
       "      <td>160.372610</td>\n",
       "      <td>30.455998</td>\n",
       "      <td>5313.643948</td>\n",
       "      <td>65.600543</td>\n",
       "      <td>23.985950</td>\n",
       "      <td>2497.289533</td>\n",
       "      <td>30.830735</td>\n",
       "      <td>12.930266</td>\n",
       "      <td>1.603190e+06</td>\n",
       "      <td>19792.474815</td>\n",
       "      <td>1074.611894</td>\n",
       "    </tr>\n",
       "    <tr>\n",
       "      <th rowspan=\"3\" valign=\"top\">Male</th>\n",
       "      <th>Middle Class</th>\n",
       "      <td>13011.267148</td>\n",
       "      <td>164.699584</td>\n",
       "      <td>28.178481</td>\n",
       "      <td>4857.601057</td>\n",
       "      <td>61.488621</td>\n",
       "      <td>28.573899</td>\n",
       "      <td>2285.395023</td>\n",
       "      <td>28.929051</td>\n",
       "      <td>11.494486</td>\n",
       "      <td>1.557908e+06</td>\n",
       "      <td>19720.352129</td>\n",
       "      <td>1061.480026</td>\n",
       "    </tr>\n",
       "    <tr>\n",
       "      <th>Poor</th>\n",
       "      <td>13074.356796</td>\n",
       "      <td>157.522371</td>\n",
       "      <td>30.986417</td>\n",
       "      <td>5189.317871</td>\n",
       "      <td>62.521902</td>\n",
       "      <td>24.736338</td>\n",
       "      <td>2570.707990</td>\n",
       "      <td>30.972385</td>\n",
       "      <td>14.316497</td>\n",
       "      <td>1.632896e+06</td>\n",
       "      <td>19673.440735</td>\n",
       "      <td>1032.337906</td>\n",
       "    </tr>\n",
       "    <tr>\n",
       "      <th>Rich</th>\n",
       "      <td>15134.741725</td>\n",
       "      <td>161.007891</td>\n",
       "      <td>27.304429</td>\n",
       "      <td>6221.425852</td>\n",
       "      <td>66.185381</td>\n",
       "      <td>24.096603</td>\n",
       "      <td>2854.896796</td>\n",
       "      <td>30.371243</td>\n",
       "      <td>12.341288</td>\n",
       "      <td>1.850336e+06</td>\n",
       "      <td>19684.427828</td>\n",
       "      <td>958.014623</td>\n",
       "    </tr>\n",
       "  </tbody>\n",
       "</table>\n",
       "</div>"
      ],
      "text/plain": [
       "                              Height                              Weight  \\\n",
       "                                 sum        mean        std          sum   \n",
       "Gender Economic Status                                                     \n",
       "Female Middle Class     12167.855453  158.024097  31.364766  5177.115763   \n",
       "       Poor             13570.802159  157.800025  32.956936  5643.530044   \n",
       "       Rich             12990.181397  160.372610  30.455998  5313.643948   \n",
       "Male   Middle Class     13011.267148  164.699584  28.178481  4857.601057   \n",
       "       Poor             13074.356796  157.522371  30.986417  5189.317871   \n",
       "       Rich             15134.741725  161.007891  27.304429  6221.425852   \n",
       "\n",
       "                                                      Age             \\\n",
       "                             mean        std          sum       mean   \n",
       "Gender Economic Status                                                 \n",
       "Female Middle Class     67.235270  25.817348  2308.556237  29.981250   \n",
       "       Poor             65.622442  24.604891  2573.849415  29.928482   \n",
       "       Rich             65.600543  23.985950  2497.289533  30.830735   \n",
       "Male   Middle Class     61.488621  28.573899  2285.395023  28.929051   \n",
       "       Poor             62.521902  24.736338  2570.707990  30.972385   \n",
       "       Rich             66.185381  24.096603  2854.896796  30.371243   \n",
       "\n",
       "                                         Income                             \n",
       "                              std           sum          mean          std  \n",
       "Gender Economic Status                                                      \n",
       "Female Middle Class     13.071575  1.509012e+06  19597.559234  1047.878944  \n",
       "       Poor             12.460938  1.705446e+06  19830.768109  1145.876307  \n",
       "       Rich             12.930266  1.603190e+06  19792.474815  1074.611894  \n",
       "Male   Middle Class     11.494486  1.557908e+06  19720.352129  1061.480026  \n",
       "       Poor             14.316497  1.632896e+06  19673.440735  1032.337906  \n",
       "       Rich             12.341288  1.850336e+06  19684.427828   958.014623  "
      ]
     },
     "execution_count": 25,
     "metadata": {},
     "output_type": "execute_result"
    }
   ],
   "source": [
    "double_group.aggregate([np.sum, np.mean, np.std]) # Aplicacion de cada funcion a todos los variables de los grupos del \n",
    "                                                  # objeto de variables categoricas"
   ]
  },
  {
   "cell_type": "code",
   "execution_count": 26,
   "metadata": {
    "colab": {
     "base_uri": "https://localhost:8080/",
     "height": 297
    },
    "colab_type": "code",
    "id": "UkktjSkgAkSG",
    "outputId": "649b4150-ed5f-434c-aba1-fd463463fa25"
   },
   "outputs": [
    {
     "data": {
      "text/html": [
       "<div>\n",
       "<style scoped>\n",
       "    .dataframe tbody tr th:only-of-type {\n",
       "        vertical-align: middle;\n",
       "    }\n",
       "\n",
       "    .dataframe tbody tr th {\n",
       "        vertical-align: top;\n",
       "    }\n",
       "\n",
       "    .dataframe thead tr th {\n",
       "        text-align: left;\n",
       "    }\n",
       "\n",
       "    .dataframe thead tr:last-of-type th {\n",
       "        text-align: right;\n",
       "    }\n",
       "</style>\n",
       "<table border=\"1\" class=\"dataframe\">\n",
       "  <thead>\n",
       "    <tr>\n",
       "      <th></th>\n",
       "      <th></th>\n",
       "      <th>Height</th>\n",
       "      <th>Weight</th>\n",
       "      <th>Age</th>\n",
       "      <th>Income</th>\n",
       "    </tr>\n",
       "    <tr>\n",
       "      <th></th>\n",
       "      <th></th>\n",
       "      <th>&lt;lambda&gt;</th>\n",
       "      <th>&lt;lambda&gt;</th>\n",
       "      <th>&lt;lambda&gt;</th>\n",
       "      <th>&lt;lambda&gt;</th>\n",
       "    </tr>\n",
       "    <tr>\n",
       "      <th>Gender</th>\n",
       "      <th>Economic Status</th>\n",
       "      <th></th>\n",
       "      <th></th>\n",
       "      <th></th>\n",
       "      <th></th>\n",
       "    </tr>\n",
       "  </thead>\n",
       "  <tbody>\n",
       "    <tr>\n",
       "      <th rowspan=\"3\" valign=\"top\">Female</th>\n",
       "      <th>Middle Class</th>\n",
       "      <td>5.071306</td>\n",
       "      <td>2.621344</td>\n",
       "      <td>2.308662</td>\n",
       "      <td>18.824760</td>\n",
       "    </tr>\n",
       "    <tr>\n",
       "      <th>Poor</th>\n",
       "      <td>4.816150</td>\n",
       "      <td>2.682691</td>\n",
       "      <td>2.415871</td>\n",
       "      <td>17.407707</td>\n",
       "    </tr>\n",
       "    <tr>\n",
       "      <th>Rich</th>\n",
       "      <td>5.298524</td>\n",
       "      <td>2.751997</td>\n",
       "      <td>2.399241</td>\n",
       "      <td>18.533011</td>\n",
       "    </tr>\n",
       "    <tr>\n",
       "      <th rowspan=\"3\" valign=\"top\">Male</th>\n",
       "      <th>Middle Class</th>\n",
       "      <td>5.882219</td>\n",
       "      <td>2.165666</td>\n",
       "      <td>2.532858</td>\n",
       "      <td>18.696878</td>\n",
       "    </tr>\n",
       "    <tr>\n",
       "      <th>Poor</th>\n",
       "      <td>5.114498</td>\n",
       "      <td>2.542898</td>\n",
       "      <td>2.176557</td>\n",
       "      <td>19.173022</td>\n",
       "    </tr>\n",
       "    <tr>\n",
       "      <th>Rich</th>\n",
       "      <td>5.928387</td>\n",
       "      <td>2.761396</td>\n",
       "      <td>2.474141</td>\n",
       "      <td>20.657279</td>\n",
       "    </tr>\n",
       "  </tbody>\n",
       "</table>\n",
       "</div>"
      ],
      "text/plain": [
       "                          Height    Weight       Age     Income\n",
       "                        <lambda>  <lambda>  <lambda>   <lambda>\n",
       "Gender Economic Status                                         \n",
       "Female Middle Class     5.071306  2.621344  2.308662  18.824760\n",
       "       Poor             4.816150  2.682691  2.415871  17.407707\n",
       "       Rich             5.298524  2.751997  2.399241  18.533011\n",
       "Male   Middle Class     5.882219  2.165666  2.532858  18.696878\n",
       "       Poor             5.114498  2.542898  2.176557  19.173022\n",
       "       Rich             5.928387  2.761396  2.474141  20.657279"
      ]
     },
     "execution_count": 26,
     "metadata": {},
     "output_type": "execute_result"
    }
   ],
   "source": [
    "double_group.aggregate([lambda x: np.mean(x) / np.std(x)]) # aplicar la funcion del metodo landa a cada una de las \n",
    "                                                           # variables del grupo "
   ]
  },
  {
   "cell_type": "markdown",
   "metadata": {},
   "source": [
    "# Fin del video 53\n",
    "\n",
    "\n",
    "# Inicio del video 54. Filtrado, Trasformacion y otras operaciones utiles"
   ]
  },
  {
   "cell_type": "markdown",
   "metadata": {
    "colab_type": "text",
    "id": "YqDrlXlFAkSH"
   },
   "source": [
    "## Filtrado de datos\n",
    "\n",
    "Basado en diferentes propiedades de los grupos"
   ]
  },
  {
   "cell_type": "code",
   "execution_count": 27,
   "metadata": {
    "colab": {
     "base_uri": "https://localhost:8080/",
     "height": 221
    },
    "colab_type": "code",
    "id": "dD7rfKxSAkSH",
    "outputId": "324de0e9-e7f3-4d0a-f627-4502bf988198"
   },
   "outputs": [
    {
     "data": {
      "text/plain": [
       "0      18.547399\n",
       "1      24.870447\n",
       "2      49.694107\n",
       "3      48.346613\n",
       "4      11.024821\n",
       "         ...    \n",
       "494    24.554486\n",
       "495    58.998749\n",
       "496    40.593894\n",
       "497    19.507853\n",
       "498    41.961355\n",
       "Name: Age, Length: 344, dtype: float64"
      ]
     },
     "execution_count": 27,
     "metadata": {},
     "output_type": "execute_result"
    }
   ],
   "source": [
    "double_group[\"Age\"].filter(lambda x: x.sum()>2400) # datos sumados de las edades superan los 2400 \n",
    "                                                   # Buscara todas las edades agruapadas y filtrara por los elementos \n",
    "                                                   # del grupo que su suman es superior a los 2400 - no devyuelve la categoria \n",
    "                                                   # devuelve los elementos."
   ]
  },
  {
   "cell_type": "markdown",
   "metadata": {
    "colab_type": "text",
    "id": "K8WuegM0AkSI"
   },
   "source": [
    "## Transformación de variables\n",
    "Transnformacion matematica a lo elementos de una columna numerica, suponer calcular la desvicion estandar de una columna o la tipificacion de una columna en concreto (Z score)"
   ]
  },
  {
   "cell_type": "code",
   "execution_count": 28,
   "metadata": {
    "colab": {},
    "colab_type": "code",
    "id": "_3lvmdbVAkSI"
   },
   "outputs": [],
   "source": [
    "zscore = lambda x : (x - x.mean())/x.std()"
   ]
  },
  {
   "cell_type": "code",
   "execution_count": 29,
   "metadata": {
    "colab": {},
    "colab_type": "code",
    "id": "fLCs7OEOAkSJ"
   },
   "outputs": [],
   "source": [
    "z_group = double_group.transform(zscore)"
   ]
  },
  {
   "cell_type": "code",
   "execution_count": 30,
   "metadata": {
    "colab": {},
    "colab_type": "code",
    "id": "1_3gMroqAkSK"
   },
   "outputs": [],
   "source": [
    "import matplotlib.pyplot as plt"
   ]
  },
  {
   "cell_type": "code",
   "execution_count": 31,
   "metadata": {
    "colab": {
     "base_uri": "https://localhost:8080/",
     "height": 350
    },
    "colab_type": "code",
    "id": "CRgESBjmAkSL",
    "outputId": "3f2055ac-0d7e-4787-ab2a-aa6045c585db"
   },
   "outputs": [
    {
     "data": {
      "text/plain": [
       "(array([  1.,   3.,  18.,  48.,  67., 100., 120.,  89.,  33.,  21.]),\n",
       " array([-3.50551884e+00, -2.92167580e+00, -2.33783275e+00, -1.75398971e+00,\n",
       "        -1.17014666e+00, -5.86303620e-01, -2.46057549e-03,  5.81382469e-01,\n",
       "         1.16522551e+00,  1.74906856e+00,  2.33291160e+00]),\n",
       " <BarContainer object of 10 artists>)"
      ]
     },
     "execution_count": 31,
     "metadata": {},
     "output_type": "execute_result"
    },
    {
     "data": {
      "image/png": "[encoded data removed]",
      "text/plain": [
       "<Figure size 640x480 with 1 Axes>"
      ]
     },
     "metadata": {},
     "output_type": "display_data"
    }
   ],
   "source": [
    "plt.hist(z_group[\"Age\"])"
   ]
  },
  {
   "cell_type": "code",
   "execution_count": 32,
   "metadata": {
    "colab": {},
    "colab_type": "code",
    "id": "V5OjiQoAAkSM"
   },
   "outputs": [],
   "source": [
    "fill_na_mean = lambda x : x.fillna(x.mean()) # rellenar los NA con el promedio"
   ]
  },
  {
   "cell_type": "code",
   "execution_count": 33,
   "metadata": {
    "colab": {
     "base_uri": "https://localhost:8080/",
     "height": 419
    },
    "colab_type": "code",
    "id": "Jt30Dhi7AkSN",
    "outputId": "ca1ea0dc-e6fe-4fbc-a412-9629628408b4"
   },
   "outputs": [
    {
     "data": {
      "text/html": [
       "<div>\n",
       "<style scoped>\n",
       "    .dataframe tbody tr th:only-of-type {\n",
       "        vertical-align: middle;\n",
       "    }\n",
       "\n",
       "    .dataframe tbody tr th {\n",
       "        vertical-align: top;\n",
       "    }\n",
       "\n",
       "    .dataframe thead th {\n",
       "        text-align: right;\n",
       "    }\n",
       "</style>\n",
       "<table border=\"1\" class=\"dataframe\">\n",
       "  <thead>\n",
       "    <tr style=\"text-align: right;\">\n",
       "      <th></th>\n",
       "      <th>Height</th>\n",
       "      <th>Weight</th>\n",
       "      <th>Age</th>\n",
       "      <th>Income</th>\n",
       "    </tr>\n",
       "  </thead>\n",
       "  <tbody>\n",
       "    <tr>\n",
       "      <th>0</th>\n",
       "      <td>69.324306</td>\n",
       "      <td>47.672627</td>\n",
       "      <td>18.547399</td>\n",
       "      <td>19222.681935</td>\n",
       "    </tr>\n",
       "    <tr>\n",
       "      <th>1</th>\n",
       "      <td>145.522076</td>\n",
       "      <td>77.821049</td>\n",
       "      <td>24.870447</td>\n",
       "      <td>20074.719619</td>\n",
       "    </tr>\n",
       "    <tr>\n",
       "      <th>2</th>\n",
       "      <td>147.245089</td>\n",
       "      <td>70.998508</td>\n",
       "      <td>49.694107</td>\n",
       "      <td>21444.468067</td>\n",
       "    </tr>\n",
       "    <tr>\n",
       "      <th>3</th>\n",
       "      <td>118.317611</td>\n",
       "      <td>71.030419</td>\n",
       "      <td>48.346613</td>\n",
       "      <td>19870.736649</td>\n",
       "    </tr>\n",
       "    <tr>\n",
       "      <th>4</th>\n",
       "      <td>139.205009</td>\n",
       "      <td>57.725157</td>\n",
       "      <td>11.024821</td>\n",
       "      <td>19894.575408</td>\n",
       "    </tr>\n",
       "    <tr>\n",
       "      <th>...</th>\n",
       "      <td>...</td>\n",
       "      <td>...</td>\n",
       "      <td>...</td>\n",
       "      <td>...</td>\n",
       "    </tr>\n",
       "    <tr>\n",
       "      <th>495</th>\n",
       "      <td>192.757840</td>\n",
       "      <td>59.901463</td>\n",
       "      <td>58.998749</td>\n",
       "      <td>19039.382940</td>\n",
       "    </tr>\n",
       "    <tr>\n",
       "      <th>496</th>\n",
       "      <td>145.728128</td>\n",
       "      <td>59.769271</td>\n",
       "      <td>40.593894</td>\n",
       "      <td>21222.444095</td>\n",
       "    </tr>\n",
       "    <tr>\n",
       "      <th>497</th>\n",
       "      <td>149.139589</td>\n",
       "      <td>61.583119</td>\n",
       "      <td>19.507853</td>\n",
       "      <td>18266.359026</td>\n",
       "    </tr>\n",
       "    <tr>\n",
       "      <th>498</th>\n",
       "      <td>150.823660</td>\n",
       "      <td>53.694076</td>\n",
       "      <td>41.961355</td>\n",
       "      <td>20497.471766</td>\n",
       "    </tr>\n",
       "    <tr>\n",
       "      <th>499</th>\n",
       "      <td>142.504615</td>\n",
       "      <td>29.296752</td>\n",
       "      <td>16.604786</td>\n",
       "      <td>19506.866979</td>\n",
       "    </tr>\n",
       "  </tbody>\n",
       "</table>\n",
       "<p>500 rows × 4 columns</p>\n",
       "</div>"
      ],
      "text/plain": [
       "         Height     Weight        Age        Income\n",
       "0     69.324306  47.672627  18.547399  19222.681935\n",
       "1    145.522076  77.821049  24.870447  20074.719619\n",
       "2    147.245089  70.998508  49.694107  21444.468067\n",
       "3    118.317611  71.030419  48.346613  19870.736649\n",
       "4    139.205009  57.725157  11.024821  19894.575408\n",
       "..          ...        ...        ...           ...\n",
       "495  192.757840  59.901463  58.998749  19039.382940\n",
       "496  145.728128  59.769271  40.593894  21222.444095\n",
       "497  149.139589  61.583119  19.507853  18266.359026\n",
       "498  150.823660  53.694076  41.961355  20497.471766\n",
       "499  142.504615  29.296752  16.604786  19506.866979\n",
       "\n",
       "[500 rows x 4 columns]"
      ]
     },
     "execution_count": 33,
     "metadata": {},
     "output_type": "execute_result"
    }
   ],
   "source": [
    "double_group.transform(fill_na_mean) # El el caso de tener un valor NA se cambiaria por el promedio"
   ]
  },
  {
   "cell_type": "markdown",
   "metadata": {
    "colab_type": "text",
    "id": "REgLbwFpAkSO"
   },
   "source": [
    "## Operaciones diversas muy útiles"
   ]
  },
  {
   "cell_type": "code",
   "execution_count": 34,
   "metadata": {
    "colab": {
     "base_uri": "https://localhost:8080/",
     "height": 235
    },
    "colab_type": "code",
    "id": "Onxbpf_5AkSO",
    "outputId": "ec3f40b7-5e5e-4674-b0a8-01963860af19"
   },
   "outputs": [
    {
     "data": {
      "text/html": [
       "<div>\n",
       "<style scoped>\n",
       "    .dataframe tbody tr th:only-of-type {\n",
       "        vertical-align: middle;\n",
       "    }\n",
       "\n",
       "    .dataframe tbody tr th {\n",
       "        vertical-align: top;\n",
       "    }\n",
       "\n",
       "    .dataframe thead th {\n",
       "        text-align: right;\n",
       "    }\n",
       "</style>\n",
       "<table border=\"1\" class=\"dataframe\">\n",
       "  <thead>\n",
       "    <tr style=\"text-align: right;\">\n",
       "      <th></th>\n",
       "      <th>Gender</th>\n",
       "      <th>Economic Status</th>\n",
       "      <th>Height</th>\n",
       "      <th>Weight</th>\n",
       "      <th>Age</th>\n",
       "      <th>Income</th>\n",
       "    </tr>\n",
       "  </thead>\n",
       "  <tbody>\n",
       "    <tr>\n",
       "      <th>0</th>\n",
       "      <td>Female</td>\n",
       "      <td>Rich</td>\n",
       "      <td>69.324306</td>\n",
       "      <td>47.672627</td>\n",
       "      <td>18.547399</td>\n",
       "      <td>19222.681935</td>\n",
       "    </tr>\n",
       "    <tr>\n",
       "      <th>2</th>\n",
       "      <td>Male</td>\n",
       "      <td>Rich</td>\n",
       "      <td>147.245089</td>\n",
       "      <td>70.998508</td>\n",
       "      <td>49.694107</td>\n",
       "      <td>21444.468067</td>\n",
       "    </tr>\n",
       "    <tr>\n",
       "      <th>4</th>\n",
       "      <td>Female</td>\n",
       "      <td>Poor</td>\n",
       "      <td>139.205009</td>\n",
       "      <td>57.725157</td>\n",
       "      <td>11.024821</td>\n",
       "      <td>19894.575408</td>\n",
       "    </tr>\n",
       "    <tr>\n",
       "      <th>5</th>\n",
       "      <td>Female</td>\n",
       "      <td>Middle Class</td>\n",
       "      <td>163.510127</td>\n",
       "      <td>92.106398</td>\n",
       "      <td>44.359551</td>\n",
       "      <td>20370.477991</td>\n",
       "    </tr>\n",
       "    <tr>\n",
       "      <th>6</th>\n",
       "      <td>Male</td>\n",
       "      <td>Poor</td>\n",
       "      <td>204.700111</td>\n",
       "      <td>63.389965</td>\n",
       "      <td>27.367378</td>\n",
       "      <td>18821.700061</td>\n",
       "    </tr>\n",
       "    <tr>\n",
       "      <th>16</th>\n",
       "      <td>Male</td>\n",
       "      <td>Middle Class</td>\n",
       "      <td>174.240880</td>\n",
       "      <td>71.361520</td>\n",
       "      <td>44.238198</td>\n",
       "      <td>18060.664207</td>\n",
       "    </tr>\n",
       "  </tbody>\n",
       "</table>\n",
       "</div>"
      ],
      "text/plain": [
       "    Gender Economic Status      Height     Weight        Age        Income\n",
       "0   Female            Rich   69.324306  47.672627  18.547399  19222.681935\n",
       "2     Male            Rich  147.245089  70.998508  49.694107  21444.468067\n",
       "4   Female            Poor  139.205009  57.725157  11.024821  19894.575408\n",
       "5   Female    Middle Class  163.510127  92.106398  44.359551  20370.477991\n",
       "6     Male            Poor  204.700111  63.389965  27.367378  18821.700061\n",
       "16    Male    Middle Class  174.240880  71.361520  44.238198  18060.664207"
      ]
     },
     "execution_count": 34,
     "metadata": {},
     "output_type": "execute_result"
    }
   ],
   "source": [
    "double_group.head(1) # Seleccionar la fila n de un objeto tipo Grupby / devuleve el primer objeto de cada grupo"
   ]
  },
  {
   "cell_type": "code",
   "execution_count": 35,
   "metadata": {
    "colab": {
     "base_uri": "https://localhost:8080/",
     "height": 235
    },
    "colab_type": "code",
    "id": "srDlzkTjAkSP",
    "outputId": "7c3e78ed-0525-4c24-d3e5-ffd788897744"
   },
   "outputs": [
    {
     "data": {
      "text/html": [
       "<div>\n",
       "<style scoped>\n",
       "    .dataframe tbody tr th:only-of-type {\n",
       "        vertical-align: middle;\n",
       "    }\n",
       "\n",
       "    .dataframe tbody tr th {\n",
       "        vertical-align: top;\n",
       "    }\n",
       "\n",
       "    .dataframe thead th {\n",
       "        text-align: right;\n",
       "    }\n",
       "</style>\n",
       "<table border=\"1\" class=\"dataframe\">\n",
       "  <thead>\n",
       "    <tr style=\"text-align: right;\">\n",
       "      <th></th>\n",
       "      <th>Gender</th>\n",
       "      <th>Economic Status</th>\n",
       "      <th>Height</th>\n",
       "      <th>Weight</th>\n",
       "      <th>Age</th>\n",
       "      <th>Income</th>\n",
       "    </tr>\n",
       "  </thead>\n",
       "  <tbody>\n",
       "    <tr>\n",
       "      <th>483</th>\n",
       "      <td>Female</td>\n",
       "      <td>Middle Class</td>\n",
       "      <td>164.688655</td>\n",
       "      <td>61.742466</td>\n",
       "      <td>30.055932</td>\n",
       "      <td>18060.105403</td>\n",
       "    </tr>\n",
       "    <tr>\n",
       "      <th>489</th>\n",
       "      <td>Female</td>\n",
       "      <td>Rich</td>\n",
       "      <td>197.417830</td>\n",
       "      <td>110.007567</td>\n",
       "      <td>28.021557</td>\n",
       "      <td>19420.319824</td>\n",
       "    </tr>\n",
       "    <tr>\n",
       "      <th>493</th>\n",
       "      <td>Male</td>\n",
       "      <td>Poor</td>\n",
       "      <td>139.750068</td>\n",
       "      <td>43.876481</td>\n",
       "      <td>29.163214</td>\n",
       "      <td>19938.125661</td>\n",
       "    </tr>\n",
       "    <tr>\n",
       "      <th>496</th>\n",
       "      <td>Female</td>\n",
       "      <td>Poor</td>\n",
       "      <td>145.728128</td>\n",
       "      <td>59.769271</td>\n",
       "      <td>40.593894</td>\n",
       "      <td>21222.444095</td>\n",
       "    </tr>\n",
       "    <tr>\n",
       "      <th>498</th>\n",
       "      <td>Male</td>\n",
       "      <td>Rich</td>\n",
       "      <td>150.823660</td>\n",
       "      <td>53.694076</td>\n",
       "      <td>41.961355</td>\n",
       "      <td>20497.471766</td>\n",
       "    </tr>\n",
       "    <tr>\n",
       "      <th>499</th>\n",
       "      <td>Male</td>\n",
       "      <td>Middle Class</td>\n",
       "      <td>142.504615</td>\n",
       "      <td>29.296752</td>\n",
       "      <td>16.604786</td>\n",
       "      <td>19506.866979</td>\n",
       "    </tr>\n",
       "  </tbody>\n",
       "</table>\n",
       "</div>"
      ],
      "text/plain": [
       "     Gender Economic Status      Height      Weight        Age        Income\n",
       "483  Female    Middle Class  164.688655   61.742466  30.055932  18060.105403\n",
       "489  Female            Rich  197.417830  110.007567  28.021557  19420.319824\n",
       "493    Male            Poor  139.750068   43.876481  29.163214  19938.125661\n",
       "496  Female            Poor  145.728128   59.769271  40.593894  21222.444095\n",
       "498    Male            Rich  150.823660   53.694076  41.961355  20497.471766\n",
       "499    Male    Middle Class  142.504615   29.296752  16.604786  19506.866979"
      ]
     },
     "execution_count": 35,
     "metadata": {},
     "output_type": "execute_result"
    }
   ],
   "source": [
    "double_group.tail(1) # Devuelve la ultima fila de cada una de las colecciones -> la ultima mujer pobre, la ultima mujer rica ... etc"
   ]
  },
  {
   "cell_type": "code",
   "execution_count": 36,
   "metadata": {
    "colab": {
     "base_uri": "https://localhost:8080/",
     "height": 266
    },
    "colab_type": "code",
    "id": "PUzcau-IAkSQ",
    "outputId": "b6414924-5c52-4957-ca75-e482fa6bb218"
   },
   "outputs": [
    {
     "data": {
      "text/html": [
       "<div>\n",
       "<style scoped>\n",
       "    .dataframe tbody tr th:only-of-type {\n",
       "        vertical-align: middle;\n",
       "    }\n",
       "\n",
       "    .dataframe tbody tr th {\n",
       "        vertical-align: top;\n",
       "    }\n",
       "\n",
       "    .dataframe thead th {\n",
       "        text-align: right;\n",
       "    }\n",
       "</style>\n",
       "<table border=\"1\" class=\"dataframe\">\n",
       "  <thead>\n",
       "    <tr style=\"text-align: right;\">\n",
       "      <th></th>\n",
       "      <th></th>\n",
       "      <th>Height</th>\n",
       "      <th>Weight</th>\n",
       "      <th>Age</th>\n",
       "      <th>Income</th>\n",
       "    </tr>\n",
       "    <tr>\n",
       "      <th>Gender</th>\n",
       "      <th>Economic Status</th>\n",
       "      <th></th>\n",
       "      <th></th>\n",
       "      <th></th>\n",
       "      <th></th>\n",
       "    </tr>\n",
       "  </thead>\n",
       "  <tbody>\n",
       "    <tr>\n",
       "      <th rowspan=\"3\" valign=\"top\">Female</th>\n",
       "      <th>Middle Class</th>\n",
       "      <td>172.859852</td>\n",
       "      <td>60.885902</td>\n",
       "      <td>52.646636</td>\n",
       "      <td>18320.455962</td>\n",
       "    </tr>\n",
       "    <tr>\n",
       "      <th>Poor</th>\n",
       "      <td>119.379406</td>\n",
       "      <td>91.319380</td>\n",
       "      <td>26.000675</td>\n",
       "      <td>19094.184815</td>\n",
       "    </tr>\n",
       "    <tr>\n",
       "      <th>Rich</th>\n",
       "      <td>189.073405</td>\n",
       "      <td>88.728084</td>\n",
       "      <td>45.663077</td>\n",
       "      <td>19286.212243</td>\n",
       "    </tr>\n",
       "    <tr>\n",
       "      <th rowspan=\"3\" valign=\"top\">Male</th>\n",
       "      <th>Middle Class</th>\n",
       "      <td>177.841775</td>\n",
       "      <td>117.465017</td>\n",
       "      <td>37.238147</td>\n",
       "      <td>18756.765296</td>\n",
       "    </tr>\n",
       "    <tr>\n",
       "      <th>Poor</th>\n",
       "      <td>130.416681</td>\n",
       "      <td>52.842030</td>\n",
       "      <td>40.131836</td>\n",
       "      <td>19014.781240</td>\n",
       "    </tr>\n",
       "    <tr>\n",
       "      <th>Rich</th>\n",
       "      <td>170.686216</td>\n",
       "      <td>57.703098</td>\n",
       "      <td>12.637377</td>\n",
       "      <td>18496.558085</td>\n",
       "    </tr>\n",
       "  </tbody>\n",
       "</table>\n",
       "</div>"
      ],
      "text/plain": [
       "                            Height      Weight        Age        Income\n",
       "Gender Economic Status                                                 \n",
       "Female Middle Class     172.859852   60.885902  52.646636  18320.455962\n",
       "       Poor             119.379406   91.319380  26.000675  19094.184815\n",
       "       Rich             189.073405   88.728084  45.663077  19286.212243\n",
       "Male   Middle Class     177.841775  117.465017  37.238147  18756.765296\n",
       "       Poor             130.416681   52.842030  40.131836  19014.781240\n",
       "       Rich             170.686216   57.703098  12.637377  18496.558085"
      ]
     },
     "execution_count": 36,
     "metadata": {},
     "output_type": "execute_result"
    }
   ],
   "source": [
    "double_group.nth(32) # devuelve la fila n-esima d eun grupo determinado"
   ]
  },
  {
   "cell_type": "code",
   "execution_count": 37,
   "metadata": {
    "colab": {
     "base_uri": "https://localhost:8080/",
     "height": 142
    },
    "colab_type": "code",
    "id": "TLvuUCwlAkSR",
    "outputId": "f4db7972-2a76-4a61-9040-8b0ea79773f0"
   },
   "outputs": [
    {
     "data": {
      "text/html": [
       "<div>\n",
       "<style scoped>\n",
       "    .dataframe tbody tr th:only-of-type {\n",
       "        vertical-align: middle;\n",
       "    }\n",
       "\n",
       "    .dataframe tbody tr th {\n",
       "        vertical-align: top;\n",
       "    }\n",
       "\n",
       "    .dataframe thead th {\n",
       "        text-align: right;\n",
       "    }\n",
       "</style>\n",
       "<table border=\"1\" class=\"dataframe\">\n",
       "  <thead>\n",
       "    <tr style=\"text-align: right;\">\n",
       "      <th></th>\n",
       "      <th></th>\n",
       "      <th>Height</th>\n",
       "      <th>Weight</th>\n",
       "      <th>Age</th>\n",
       "      <th>Income</th>\n",
       "    </tr>\n",
       "    <tr>\n",
       "      <th>Gender</th>\n",
       "      <th>Economic Status</th>\n",
       "      <th></th>\n",
       "      <th></th>\n",
       "      <th></th>\n",
       "      <th></th>\n",
       "    </tr>\n",
       "  </thead>\n",
       "  <tbody>\n",
       "    <tr>\n",
       "      <th>Female</th>\n",
       "      <th>Poor</th>\n",
       "      <td>124.205826</td>\n",
       "      <td>39.094868</td>\n",
       "      <td>48.463862</td>\n",
       "      <td>18026.506193</td>\n",
       "    </tr>\n",
       "    <tr>\n",
       "      <th rowspan=\"2\" valign=\"top\">Male</th>\n",
       "      <th>Poor</th>\n",
       "      <td>139.750068</td>\n",
       "      <td>43.876481</td>\n",
       "      <td>29.163214</td>\n",
       "      <td>19938.125661</td>\n",
       "    </tr>\n",
       "    <tr>\n",
       "      <th>Rich</th>\n",
       "      <td>149.240547</td>\n",
       "      <td>64.561977</td>\n",
       "      <td>48.548681</td>\n",
       "      <td>19469.971752</td>\n",
       "    </tr>\n",
       "  </tbody>\n",
       "</table>\n",
       "</div>"
      ],
      "text/plain": [
       "                            Height     Weight        Age        Income\n",
       "Gender Economic Status                                                \n",
       "Female Poor             124.205826  39.094868  48.463862  18026.506193\n",
       "Male   Poor             139.750068  43.876481  29.163214  19938.125661\n",
       "       Rich             149.240547  64.561977  48.548681  19469.971752"
      ]
     },
     "execution_count": 37,
     "metadata": {},
     "output_type": "execute_result"
    }
   ],
   "source": [
    "double_group.nth(82) # flata informacion, se esta pidiendo una pocision que no existe"
   ]
  },
  {
   "cell_type": "code",
   "execution_count": 38,
   "metadata": {
    "colab": {},
    "colab_type": "code",
    "id": "Lm1IS7UeAkSS"
   },
   "outputs": [],
   "source": [
    "data_sorted = data.sort_values([\"Age\", \"Income\"]) # Odenar la pocicion del dataframe, posicion de las COLUMNAS MAS RELEVANTES\n",
    "                                                  # ordenar el data frmae primero antes de generar el grupo de objetos"
   ]
  },
  {
   "cell_type": "code",
   "execution_count": 39,
   "metadata": {
    "colab": {
     "base_uri": "https://localhost:8080/",
     "height": 359
    },
    "colab_type": "code",
    "id": "_E618lUBAkST",
    "outputId": "bb9cd800-a233-4f86-b033-cfb085b09f2d"
   },
   "outputs": [
    {
     "data": {
      "text/html": [
       "<div>\n",
       "<style scoped>\n",
       "    .dataframe tbody tr th:only-of-type {\n",
       "        vertical-align: middle;\n",
       "    }\n",
       "\n",
       "    .dataframe tbody tr th {\n",
       "        vertical-align: top;\n",
       "    }\n",
       "\n",
       "    .dataframe thead th {\n",
       "        text-align: right;\n",
       "    }\n",
       "</style>\n",
       "<table border=\"1\" class=\"dataframe\">\n",
       "  <thead>\n",
       "    <tr style=\"text-align: right;\">\n",
       "      <th></th>\n",
       "      <th>Gender</th>\n",
       "      <th>Economic Status</th>\n",
       "      <th>Height</th>\n",
       "      <th>Weight</th>\n",
       "      <th>Age</th>\n",
       "      <th>Income</th>\n",
       "    </tr>\n",
       "  </thead>\n",
       "  <tbody>\n",
       "    <tr>\n",
       "      <th>409</th>\n",
       "      <td>Male</td>\n",
       "      <td>Poor</td>\n",
       "      <td>117.157836</td>\n",
       "      <td>63.345971</td>\n",
       "      <td>-19.214364</td>\n",
       "      <td>19737.615852</td>\n",
       "    </tr>\n",
       "    <tr>\n",
       "      <th>485</th>\n",
       "      <td>Female</td>\n",
       "      <td>Rich</td>\n",
       "      <td>178.618213</td>\n",
       "      <td>28.033225</td>\n",
       "      <td>-4.460257</td>\n",
       "      <td>21481.058793</td>\n",
       "    </tr>\n",
       "    <tr>\n",
       "      <th>224</th>\n",
       "      <td>Female</td>\n",
       "      <td>Middle Class</td>\n",
       "      <td>177.447025</td>\n",
       "      <td>70.436962</td>\n",
       "      <td>-1.319579</td>\n",
       "      <td>21028.783736</td>\n",
       "    </tr>\n",
       "    <tr>\n",
       "      <th>389</th>\n",
       "      <td>Male</td>\n",
       "      <td>Rich</td>\n",
       "      <td>140.379507</td>\n",
       "      <td>11.492633</td>\n",
       "      <td>0.019250</td>\n",
       "      <td>18579.319820</td>\n",
       "    </tr>\n",
       "    <tr>\n",
       "      <th>127</th>\n",
       "      <td>Male</td>\n",
       "      <td>Poor</td>\n",
       "      <td>166.385703</td>\n",
       "      <td>29.065692</td>\n",
       "      <td>0.213909</td>\n",
       "      <td>18934.027624</td>\n",
       "    </tr>\n",
       "    <tr>\n",
       "      <th>74</th>\n",
       "      <td>Female</td>\n",
       "      <td>Rich</td>\n",
       "      <td>161.749055</td>\n",
       "      <td>86.955798</td>\n",
       "      <td>2.485487</td>\n",
       "      <td>21251.101541</td>\n",
       "    </tr>\n",
       "    <tr>\n",
       "      <th>363</th>\n",
       "      <td>Female</td>\n",
       "      <td>Poor</td>\n",
       "      <td>163.913418</td>\n",
       "      <td>44.904766</td>\n",
       "      <td>2.549328</td>\n",
       "      <td>19134.194745</td>\n",
       "    </tr>\n",
       "    <tr>\n",
       "      <th>285</th>\n",
       "      <td>Female</td>\n",
       "      <td>Middle Class</td>\n",
       "      <td>189.613252</td>\n",
       "      <td>74.082871</td>\n",
       "      <td>3.434241</td>\n",
       "      <td>19502.145017</td>\n",
       "    </tr>\n",
       "    <tr>\n",
       "      <th>403</th>\n",
       "      <td>Female</td>\n",
       "      <td>Middle Class</td>\n",
       "      <td>133.503869</td>\n",
       "      <td>33.473192</td>\n",
       "      <td>3.909585</td>\n",
       "      <td>18043.324093</td>\n",
       "    </tr>\n",
       "    <tr>\n",
       "      <th>413</th>\n",
       "      <td>Female</td>\n",
       "      <td>Middle Class</td>\n",
       "      <td>192.512680</td>\n",
       "      <td>90.281242</td>\n",
       "      <td>4.114985</td>\n",
       "      <td>19701.605730</td>\n",
       "    </tr>\n",
       "  </tbody>\n",
       "</table>\n",
       "</div>"
      ],
      "text/plain": [
       "     Gender Economic Status      Height     Weight        Age        Income\n",
       "409    Male            Poor  117.157836  63.345971 -19.214364  19737.615852\n",
       "485  Female            Rich  178.618213  28.033225  -4.460257  21481.058793\n",
       "224  Female    Middle Class  177.447025  70.436962  -1.319579  21028.783736\n",
       "389    Male            Rich  140.379507  11.492633   0.019250  18579.319820\n",
       "127    Male            Poor  166.385703  29.065692   0.213909  18934.027624\n",
       "74   Female            Rich  161.749055  86.955798   2.485487  21251.101541\n",
       "363  Female            Poor  163.913418  44.904766   2.549328  19134.194745\n",
       "285  Female    Middle Class  189.613252  74.082871   3.434241  19502.145017\n",
       "403  Female    Middle Class  133.503869  33.473192   3.909585  18043.324093\n",
       "413  Female    Middle Class  192.512680  90.281242   4.114985  19701.605730"
      ]
     },
     "execution_count": 39,
     "metadata": {},
     "output_type": "execute_result"
    }
   ],
   "source": [
    "data_sorted.head(10) # Ordenado de menor a mayor, si hay empate se ordena por la siguiente coluna, nivel de ingresos"
   ]
  },
  {
   "cell_type": "code",
   "execution_count": 40,
   "metadata": {
    "colab": {},
    "colab_type": "code",
    "id": "p7TM9sRqAkSU"
   },
   "outputs": [],
   "source": [
    "age_grouped = data_sorted.groupby(\"Gender\")"
   ]
  },
  {
   "cell_type": "code",
   "execution_count": 41,
   "metadata": {
    "colab": {
     "base_uri": "https://localhost:8080/",
     "height": 111
    },
    "colab_type": "code",
    "id": "xilQDYDuAkSU",
    "outputId": "9d8dba61-abc3-470f-d137-38706f7ddd56"
   },
   "outputs": [
    {
     "data": {
      "text/html": [
       "<div>\n",
       "<style scoped>\n",
       "    .dataframe tbody tr th:only-of-type {\n",
       "        vertical-align: middle;\n",
       "    }\n",
       "\n",
       "    .dataframe tbody tr th {\n",
       "        vertical-align: top;\n",
       "    }\n",
       "\n",
       "    .dataframe thead th {\n",
       "        text-align: right;\n",
       "    }\n",
       "</style>\n",
       "<table border=\"1\" class=\"dataframe\">\n",
       "  <thead>\n",
       "    <tr style=\"text-align: right;\">\n",
       "      <th></th>\n",
       "      <th>Gender</th>\n",
       "      <th>Economic Status</th>\n",
       "      <th>Height</th>\n",
       "      <th>Weight</th>\n",
       "      <th>Age</th>\n",
       "      <th>Income</th>\n",
       "    </tr>\n",
       "  </thead>\n",
       "  <tbody>\n",
       "    <tr>\n",
       "      <th>409</th>\n",
       "      <td>Male</td>\n",
       "      <td>Poor</td>\n",
       "      <td>117.157836</td>\n",
       "      <td>63.345971</td>\n",
       "      <td>-19.214364</td>\n",
       "      <td>19737.615852</td>\n",
       "    </tr>\n",
       "    <tr>\n",
       "      <th>485</th>\n",
       "      <td>Female</td>\n",
       "      <td>Rich</td>\n",
       "      <td>178.618213</td>\n",
       "      <td>28.033225</td>\n",
       "      <td>-4.460257</td>\n",
       "      <td>21481.058793</td>\n",
       "    </tr>\n",
       "  </tbody>\n",
       "</table>\n",
       "</div>"
      ],
      "text/plain": [
       "     Gender Economic Status      Height     Weight        Age        Income\n",
       "409    Male            Poor  117.157836  63.345971 -19.214364  19737.615852\n",
       "485  Female            Rich  178.618213  28.033225  -4.460257  21481.058793"
      ]
     },
     "execution_count": 41,
     "metadata": {},
     "output_type": "execute_result"
    }
   ],
   "source": [
    "age_grouped.head(1) # ordenar por los mas jovenes"
   ]
  },
  {
   "cell_type": "code",
   "execution_count": 42,
   "metadata": {
    "colab": {
     "base_uri": "https://localhost:8080/",
     "height": 111
    },
    "colab_type": "code",
    "id": "-f2hp-tVAkSV",
    "outputId": "12df5949-b1ab-444b-dfbe-5e86694ce039"
   },
   "outputs": [
    {
     "data": {
      "text/html": [
       "<div>\n",
       "<style scoped>\n",
       "    .dataframe tbody tr th:only-of-type {\n",
       "        vertical-align: middle;\n",
       "    }\n",
       "\n",
       "    .dataframe tbody tr th {\n",
       "        vertical-align: top;\n",
       "    }\n",
       "\n",
       "    .dataframe thead th {\n",
       "        text-align: right;\n",
       "    }\n",
       "</style>\n",
       "<table border=\"1\" class=\"dataframe\">\n",
       "  <thead>\n",
       "    <tr style=\"text-align: right;\">\n",
       "      <th></th>\n",
       "      <th>Gender</th>\n",
       "      <th>Economic Status</th>\n",
       "      <th>Height</th>\n",
       "      <th>Weight</th>\n",
       "      <th>Age</th>\n",
       "      <th>Income</th>\n",
       "    </tr>\n",
       "  </thead>\n",
       "  <tbody>\n",
       "    <tr>\n",
       "      <th>318</th>\n",
       "      <td>Female</td>\n",
       "      <td>Rich</td>\n",
       "      <td>138.591676</td>\n",
       "      <td>59.034873</td>\n",
       "      <td>59.447611</td>\n",
       "      <td>21471.478258</td>\n",
       "    </tr>\n",
       "    <tr>\n",
       "      <th>457</th>\n",
       "      <td>Male</td>\n",
       "      <td>Poor</td>\n",
       "      <td>194.601324</td>\n",
       "      <td>85.527037</td>\n",
       "      <td>61.593418</td>\n",
       "      <td>19904.377235</td>\n",
       "    </tr>\n",
       "  </tbody>\n",
       "</table>\n",
       "</div>"
      ],
      "text/plain": [
       "     Gender Economic Status      Height     Weight        Age        Income\n",
       "318  Female            Rich  138.591676  59.034873  59.447611  21471.478258\n",
       "457    Male            Poor  194.601324  85.527037  61.593418  19904.377235"
      ]
     },
     "execution_count": 42,
     "metadata": {},
     "output_type": "execute_result"
    }
   ],
   "source": [
    "age_grouped.tail(1)  # ordenar por los mas viejos"
   ]
  },
  {
   "cell_type": "markdown",
   "metadata": {},
   "source": [
    "# Fin del video 54\n",
    "\n",
    "\n",
    "# Inicio del video 55.  Conjunto de entrenamiento y conjunto de testing"
   ]
  },
  {
   "cell_type": "markdown",
   "metadata": {},
   "source": [
    "### Atualización: cómo dividir conjunto de entrenamiento y test\n",
    "###  En vez de utilizar la librería ya no existe:\n",
    "\n",
    "* from sklearn.cross_validation import train_test_split\n",
    "\n",
    "*ahora es mejor utilizar:\n",
    "\n",
    "* from sklearn.model_selection import train_test_split\n",
    "\n",
    "\n",
    "\n",
    "También cuidado si quieres representar un vector de variables booleanas, ya que al hacer un histograma obtendrás un error. Ahora debes añadir un casting con .astype(int) al final de la lista de python para poderlo representar.\n",
    "\n",
    "Antes: plt.hist(check)\n",
    "Después plt.hist(check.astype(int))"
   ]
  },
  {
   "cell_type": "markdown",
   "metadata": {},
   "source": [
    "# Fin del video 55 - 56\n",
    "\n",
    "\n",
    "# Inicio del video 57. Muestreo aleatorio: cómo dividir un dataset en conjunto de entreno y"
   ]
  },
  {
   "cell_type": "markdown",
   "metadata": {
    "colab_type": "text",
    "id": "m6-5J5PaAkSW"
   },
   "source": [
    "# Conjunto de entrenamiento y conjunto de testing"
   ]
  },
  {
   "cell_type": "code",
   "execution_count": 43,
   "metadata": {
    "colab": {},
    "colab_type": "code",
    "id": "TsLsKm4RAkSW"
   },
   "outputs": [],
   "source": [
    "import pandas as pd\n",
    "from sklearn.model_selection import train_test_split"
   ]
  },
  {
   "cell_type": "code",
   "execution_count": 44,
   "metadata": {
    "colab": {},
    "colab_type": "code",
    "id": "nUwo03aqAkSX"
   },
   "outputs": [],
   "source": [
    "data = pd.read_csv(\"./python-ml-course-master/datasets/customer-churn-model/Customer Churn Model.txt\")\n",
    "\n",
    "# /a_udemy_big_data/python-ml-course-master/datasets/customer-churn-model"
   ]
  },
  {
   "cell_type": "code",
   "execution_count": 45,
   "metadata": {
    "colab": {},
    "colab_type": "code",
    "id": "4JGk0tOCAkSY",
    "outputId": "b20a3f6f-635d-47d9-9218-1ee8391ba6bf"
   },
   "outputs": [
    {
     "data": {
      "text/plain": [
       "3333"
      ]
     },
     "execution_count": 45,
     "metadata": {},
     "output_type": "execute_result"
    }
   ],
   "source": [
    "len(data) #numero de filas de informacion en el dataset"
   ]
  },
  {
   "cell_type": "markdown",
   "metadata": {
    "colab_type": "text",
    "id": "xyYlgyXNAkSZ"
   },
   "source": [
    "## *---Dividir utilizando la distribución normal"
   ]
  },
  {
   "cell_type": "code",
   "execution_count": 46,
   "metadata": {
    "colab": {},
    "colab_type": "code",
    "id": "0USP9bsAAkSZ"
   },
   "outputs": [],
   "source": [
    "a = np.random.randn(len(data)) # crear un vector de la misma longitud del data set pero distribuido de forma normal"
   ]
  },
  {
   "cell_type": "code",
   "execution_count": 65,
   "metadata": {
    "colab": {
     "base_uri": "https://localhost:8080/",
     "height": 350
    },
    "colab_type": "code",
    "id": "t3Tdw4SAAkSa",
    "outputId": "68053f0c-2a9a-4b87-905d-7eef21808580"
   },
   "outputs": [
    {
     "data": {
      "text/plain": [
       "(array([  3.,  15., 121., 375., 780., 952., 711., 297.,  71.,   8.]),\n",
       " array([-3.94482145, -3.20846254, -2.47210363, -1.73574472, -0.99938582,\n",
       "        -0.26302691,  0.473332  ,  1.20969091,  1.94604982,  2.68240873,\n",
       "         3.41876764]),\n",
       " <BarContainer object of 10 artists>)"
      ]
     },
     "execution_count": 65,
     "metadata": {},
     "output_type": "execute_result"
    },
    {
     "data": {
      "image/png": "[encoded data removed]",
      "text/plain": [
       "<Figure size 640x480 with 1 Axes>"
      ]
     },
     "metadata": {},
     "output_type": "display_data"
    }
   ],
   "source": [
    "plt.hist(a) # ver distribucion de los datos"
   ]
  },
  {
   "cell_type": "code",
   "execution_count": 48,
   "metadata": {
    "colab": {},
    "colab_type": "code",
    "id": "ZOjx59etAkSa"
   },
   "outputs": [],
   "source": [
    "check = (a<0.75) # No es el 75% de los datos, son los números que son < 0.75!!! "
   ]
  },
  {
   "cell_type": "code",
   "execution_count": 49,
   "metadata": {
    "colab": {
     "base_uri": "https://localhost:8080/",
     "height": 969
    },
    "colab_type": "code",
    "id": "LAVp0N0JAkSb",
    "outputId": "ea86ea28-0907-405d-c41e-292975e12ad2"
   },
   "outputs": [
    {
     "data": {
      "text/plain": [
       "array([ True,  True,  True, ...,  True,  True,  True])"
      ]
     },
     "execution_count": 49,
     "metadata": {},
     "output_type": "execute_result"
    }
   ],
   "source": [
    "check"
   ]
  },
  {
   "cell_type": "code",
   "execution_count": 50,
   "metadata": {
    "colab": {
     "base_uri": "https://localhost:8080/",
     "height": 316
    },
    "colab_type": "code",
    "id": "iWhUObc0AkSc",
    "outputId": "241296c4-8812-4e44-b70f-f01e4b7deb9b"
   },
   "outputs": [
    {
     "data": {
      "text/plain": [
       "(array([ 792.,    0.,    0.,    0.,    0.,    0.,    0.,    0.,    0.,\n",
       "        2541.]),\n",
       " array([0. , 0.1, 0.2, 0.3, 0.4, 0.5, 0.6, 0.7, 0.8, 0.9, 1. ]),\n",
       " <BarContainer object of 10 artists>)"
      ]
     },
     "execution_count": 50,
     "metadata": {},
     "output_type": "execute_result"
    },
    {
     "data": {
      "image/png": "[encoded data removed]",
      "text/plain": [
       "<Figure size 640x480 with 1 Axes>"
      ]
     },
     "metadata": {},
     "output_type": "display_data"
    }
   ],
   "source": [
    "plt.hist(check.astype(int))#Ha cambiado en la versión 3.7 de python y necesita hacer un cast de bool a entero"
   ]
  },
  {
   "cell_type": "markdown",
   "metadata": {},
   "source": [
    "## Conjunto de datos de emtrenamiento y de testeo"
   ]
  },
  {
   "cell_type": "code",
   "execution_count": 51,
   "metadata": {
    "colab": {},
    "colab_type": "code",
    "collapsed": true,
    "id": "GRqOOoG2AkSc"
   },
   "outputs": [],
   "source": [
    "training = data[check]\n",
    "testing = data[~check]"
   ]
  },
  {
   "cell_type": "code",
   "execution_count": 52,
   "metadata": {
    "colab": {
     "base_uri": "https://localhost:8080/",
     "height": 34
    },
    "colab_type": "code",
    "id": "Ribx2PC1AkSd",
    "outputId": "6233c63b-3442-463d-9e2b-b9d68bd000a0"
   },
   "outputs": [
    {
     "data": {
      "text/plain": [
       "2541"
      ]
     },
     "execution_count": 52,
     "metadata": {},
     "output_type": "execute_result"
    }
   ],
   "source": [
    "len(training)"
   ]
  },
  {
   "cell_type": "code",
   "execution_count": 53,
   "metadata": {
    "colab": {
     "base_uri": "https://localhost:8080/",
     "height": 34
    },
    "colab_type": "code",
    "id": "0UnqiUWOAkSe",
    "outputId": "b08d645a-01c5-40fc-9bcd-e13cff80bb71"
   },
   "outputs": [
    {
     "data": {
      "text/plain": [
       "792"
      ]
     },
     "execution_count": 53,
     "metadata": {},
     "output_type": "execute_result"
    }
   ],
   "source": [
    "len(testing)"
   ]
  },
  {
   "cell_type": "markdown",
   "metadata": {
    "colab_type": "text",
    "id": "1f2ToslqAkSf"
   },
   "source": [
    "## Con la libreria sklearn\n",
    "\n",
    "Libreria de aprendisaje estadistico de python, incorpora metodos paRA dividir el dataset en conj7unto de metodos y validaciones, tecnica mas uasada la de validacion crusada"
   ]
  },
  {
   "cell_type": "code",
   "execution_count": 66,
   "metadata": {
    "colab": {},
    "colab_type": "code",
    "id": "26zoqG7RAkSf"
   },
   "outputs": [],
   "source": [
    "from sklearn.model_selection import train_test_split# Ha cambiado en la 3.7 de Python"
   ]
  },
  {
   "cell_type": "code",
   "execution_count": 67,
   "metadata": {
    "colab": {},
    "colab_type": "code",
    "id": "aVojsIWeAkSg"
   },
   "outputs": [],
   "source": [
    "train, test = train_test_split(data, test_size = 0.2) # 0.2 es el porcentaje en formato decimal de los datos que se usaran \n",
    "                                                      # como testing"
   ]
  },
  {
   "cell_type": "code",
   "execution_count": 56,
   "metadata": {
    "colab": {
     "base_uri": "https://localhost:8080/",
     "height": 34
    },
    "colab_type": "code",
    "id": "60Cjk1ifAkSg",
    "outputId": "127bd786-c53b-4382-973a-90f1b3bf0244"
   },
   "outputs": [
    {
     "data": {
      "text/plain": [
       "2666"
      ]
     },
     "execution_count": 56,
     "metadata": {},
     "output_type": "execute_result"
    }
   ],
   "source": [
    "len(train)"
   ]
  },
  {
   "cell_type": "code",
   "execution_count": 69,
   "metadata": {
    "colab": {
     "base_uri": "https://localhost:8080/",
     "height": 34
    },
    "colab_type": "code",
    "id": "xWfmYLTNAkSn",
    "outputId": "ed19bc2b-5dbc-40fd-dcf3-0c4a816838ba"
   },
   "outputs": [
    {
     "data": {
      "text/plain": [
       "667"
      ]
     },
     "execution_count": 69,
     "metadata": {},
     "output_type": "execute_result"
    }
   ],
   "source": [
    "len(test) # este el el porcentaje del datos que se dedicaron a testing 20% de los filas datos del data set, \n",
    "          # lo demas sera entrenamiento 80%"
   ]
  },
  {
   "cell_type": "markdown",
   "metadata": {
    "colab_type": "text",
    "id": "9l8-cogRAkSo"
   },
   "source": [
    "## Usando una función de shuffle\n",
    "\n",
    "Esta es una funcion de mesclado de datos, otro metodo para dividir los daatos del dataset como los vistos anteriormente, se puede establcer la semilla del punto de partida dev la aleaatoriedad."
   ]
  },
  {
   "cell_type": "code",
   "execution_count": 70,
   "metadata": {
    "colab": {},
    "colab_type": "code",
    "id": "QLvByZ3PAkSo"
   },
   "outputs": [],
   "source": [
    "import numpy as np"
   ]
  },
  {
   "cell_type": "code",
   "execution_count": 74,
   "metadata": {
    "colab": {
     "base_uri": "https://localhost:8080/",
     "height": 204
    },
    "colab_type": "code",
    "id": "hAwmSuggAkSp",
    "outputId": "68556d22-1833-44a7-8093-a88587991b76"
   },
   "outputs": [
    {
     "data": {
      "text/html": [
       "<div>\n",
       "<style scoped>\n",
       "    .dataframe tbody tr th:only-of-type {\n",
       "        vertical-align: middle;\n",
       "    }\n",
       "\n",
       "    .dataframe tbody tr th {\n",
       "        vertical-align: top;\n",
       "    }\n",
       "\n",
       "    .dataframe thead th {\n",
       "        text-align: right;\n",
       "    }\n",
       "</style>\n",
       "<table border=\"1\" class=\"dataframe\">\n",
       "  <thead>\n",
       "    <tr style=\"text-align: right;\">\n",
       "      <th></th>\n",
       "      <th>State</th>\n",
       "      <th>Account Length</th>\n",
       "      <th>Area Code</th>\n",
       "      <th>Phone</th>\n",
       "      <th>Int'l Plan</th>\n",
       "      <th>VMail Plan</th>\n",
       "      <th>VMail Message</th>\n",
       "      <th>Day Mins</th>\n",
       "      <th>Day Calls</th>\n",
       "      <th>Day Charge</th>\n",
       "      <th>...</th>\n",
       "      <th>Eve Calls</th>\n",
       "      <th>Eve Charge</th>\n",
       "      <th>Night Mins</th>\n",
       "      <th>Night Calls</th>\n",
       "      <th>Night Charge</th>\n",
       "      <th>Intl Mins</th>\n",
       "      <th>Intl Calls</th>\n",
       "      <th>Intl Charge</th>\n",
       "      <th>CustServ Calls</th>\n",
       "      <th>Churn?</th>\n",
       "    </tr>\n",
       "  </thead>\n",
       "  <tbody>\n",
       "    <tr>\n",
       "      <th>3141</th>\n",
       "      <td>MA</td>\n",
       "      <td>93</td>\n",
       "      <td>415</td>\n",
       "      <td>368-3287</td>\n",
       "      <td>no</td>\n",
       "      <td>yes</td>\n",
       "      <td>31</td>\n",
       "      <td>237.2</td>\n",
       "      <td>85</td>\n",
       "      <td>40.32</td>\n",
       "      <td>...</td>\n",
       "      <td>100</td>\n",
       "      <td>18.11</td>\n",
       "      <td>192.7</td>\n",
       "      <td>87</td>\n",
       "      <td>8.67</td>\n",
       "      <td>10.7</td>\n",
       "      <td>4</td>\n",
       "      <td>2.89</td>\n",
       "      <td>1</td>\n",
       "      <td>False.</td>\n",
       "    </tr>\n",
       "    <tr>\n",
       "      <th>2059</th>\n",
       "      <td>KS</td>\n",
       "      <td>94</td>\n",
       "      <td>408</td>\n",
       "      <td>379-7215</td>\n",
       "      <td>no</td>\n",
       "      <td>no</td>\n",
       "      <td>0</td>\n",
       "      <td>269.2</td>\n",
       "      <td>104</td>\n",
       "      <td>45.76</td>\n",
       "      <td>...</td>\n",
       "      <td>144</td>\n",
       "      <td>16.47</td>\n",
       "      <td>257.6</td>\n",
       "      <td>61</td>\n",
       "      <td>11.59</td>\n",
       "      <td>8.9</td>\n",
       "      <td>2</td>\n",
       "      <td>2.40</td>\n",
       "      <td>3</td>\n",
       "      <td>True.</td>\n",
       "    </tr>\n",
       "    <tr>\n",
       "      <th>2172</th>\n",
       "      <td>AL</td>\n",
       "      <td>132</td>\n",
       "      <td>408</td>\n",
       "      <td>350-9318</td>\n",
       "      <td>no</td>\n",
       "      <td>no</td>\n",
       "      <td>0</td>\n",
       "      <td>222.4</td>\n",
       "      <td>85</td>\n",
       "      <td>37.81</td>\n",
       "      <td>...</td>\n",
       "      <td>76</td>\n",
       "      <td>14.06</td>\n",
       "      <td>208.4</td>\n",
       "      <td>97</td>\n",
       "      <td>9.38</td>\n",
       "      <td>11.2</td>\n",
       "      <td>4</td>\n",
       "      <td>3.02</td>\n",
       "      <td>0</td>\n",
       "      <td>False.</td>\n",
       "    </tr>\n",
       "    <tr>\n",
       "      <th>2380</th>\n",
       "      <td>NJ</td>\n",
       "      <td>53</td>\n",
       "      <td>408</td>\n",
       "      <td>416-6886</td>\n",
       "      <td>no</td>\n",
       "      <td>no</td>\n",
       "      <td>0</td>\n",
       "      <td>228.6</td>\n",
       "      <td>117</td>\n",
       "      <td>38.86</td>\n",
       "      <td>...</td>\n",
       "      <td>123</td>\n",
       "      <td>11.29</td>\n",
       "      <td>227.2</td>\n",
       "      <td>124</td>\n",
       "      <td>10.22</td>\n",
       "      <td>10.1</td>\n",
       "      <td>2</td>\n",
       "      <td>2.73</td>\n",
       "      <td>9</td>\n",
       "      <td>True.</td>\n",
       "    </tr>\n",
       "    <tr>\n",
       "      <th>309</th>\n",
       "      <td>SD</td>\n",
       "      <td>209</td>\n",
       "      <td>415</td>\n",
       "      <td>413-5310</td>\n",
       "      <td>no</td>\n",
       "      <td>no</td>\n",
       "      <td>0</td>\n",
       "      <td>227.2</td>\n",
       "      <td>128</td>\n",
       "      <td>38.62</td>\n",
       "      <td>...</td>\n",
       "      <td>92</td>\n",
       "      <td>21.96</td>\n",
       "      <td>183.5</td>\n",
       "      <td>74</td>\n",
       "      <td>8.26</td>\n",
       "      <td>8.9</td>\n",
       "      <td>4</td>\n",
       "      <td>2.40</td>\n",
       "      <td>3</td>\n",
       "      <td>False.</td>\n",
       "    </tr>\n",
       "  </tbody>\n",
       "</table>\n",
       "<p>5 rows × 21 columns</p>\n",
       "</div>"
      ],
      "text/plain": [
       "     State  Account Length  Area Code     Phone Int'l Plan VMail Plan  \\\n",
       "3141    MA              93        415  368-3287         no        yes   \n",
       "2059    KS              94        408  379-7215         no         no   \n",
       "2172    AL             132        408  350-9318         no         no   \n",
       "2380    NJ              53        408  416-6886         no         no   \n",
       "309     SD             209        415  413-5310         no         no   \n",
       "\n",
       "      VMail Message  Day Mins  Day Calls  Day Charge  ...  Eve Calls  \\\n",
       "3141             31     237.2         85       40.32  ...        100   \n",
       "2059              0     269.2        104       45.76  ...        144   \n",
       "2172              0     222.4         85       37.81  ...         76   \n",
       "2380              0     228.6        117       38.86  ...        123   \n",
       "309               0     227.2        128       38.62  ...         92   \n",
       "\n",
       "      Eve Charge  Night Mins  Night Calls  Night Charge  Intl Mins  \\\n",
       "3141       18.11       192.7           87          8.67       10.7   \n",
       "2059       16.47       257.6           61         11.59        8.9   \n",
       "2172       14.06       208.4           97          9.38       11.2   \n",
       "2380       11.29       227.2          124         10.22       10.1   \n",
       "309        21.96       183.5           74          8.26        8.9   \n",
       "\n",
       "      Intl Calls  Intl Charge  CustServ Calls  Churn?  \n",
       "3141           4         2.89               1  False.  \n",
       "2059           2         2.40               3   True.  \n",
       "2172           4         3.02               0  False.  \n",
       "2380           2         2.73               9   True.  \n",
       "309            4         2.40               3  False.  \n",
       "\n",
       "[5 rows x 21 columns]"
      ]
     },
     "execution_count": 74,
     "metadata": {},
     "output_type": "execute_result"
    }
   ],
   "source": [
    "data.head()"
   ]
  },
  {
   "cell_type": "code",
   "execution_count": 72,
   "metadata": {
    "colab": {},
    "colab_type": "code",
    "id": "qa0z_ZJ6AkSp"
   },
   "outputs": [],
   "source": [
    "import sklearn"
   ]
  },
  {
   "cell_type": "code",
   "execution_count": 73,
   "metadata": {
    "colab": {},
    "colab_type": "code",
    "id": "yBX-tSSCAkSq"
   },
   "outputs": [],
   "source": [
    "data = sklearn.utils.shuffle(data) # mescla el dataset de informacion"
   ]
  },
  {
   "cell_type": "code",
   "execution_count": 75,
   "metadata": {
    "colab": {},
    "colab_type": "code",
    "id": "lkwfCbmSAkSr"
   },
   "outputs": [],
   "source": [
    "cut_id = int(0.75*len(data)) # identificador de corte\n",
    "train_data = data[:cut_id] # datos del principio para entrenamiento \n",
    "test_data = data[cut_id+1:] # datos del 75% en adelante para testing"
   ]
  },
  {
   "cell_type": "code",
   "execution_count": 76,
   "metadata": {
    "colab": {
     "base_uri": "https://localhost:8080/",
     "height": 34
    },
    "colab_type": "code",
    "id": "NuJVmGovAkSr",
    "outputId": "6fb2bfaf-e9c0-4de0-a154-f135f4823089"
   },
   "outputs": [
    {
     "data": {
      "text/plain": [
       "2499"
      ]
     },
     "execution_count": 76,
     "metadata": {},
     "output_type": "execute_result"
    }
   ],
   "source": [
    "len(train_data) # 75% para entrena "
   ]
  },
  {
   "cell_type": "code",
   "execution_count": 64,
   "metadata": {
    "colab": {
     "base_uri": "https://localhost:8080/",
     "height": 34
    },
    "colab_type": "code",
    "id": "ztoaBbOeAkSs",
    "outputId": "b3c609f2-fedc-4670-add3-51ca09418772"
   },
   "outputs": [
    {
     "data": {
      "text/plain": [
       "833"
      ]
     },
     "execution_count": 64,
     "metadata": {},
     "output_type": "execute_result"
    }
   ],
   "source": [
    "len(test_data) # 25% para validar"
   ]
  },
  {
   "cell_type": "markdown",
   "metadata": {
    "colab": {},
    "colab_type": "code",
    "id": "wgEx951WBsB-"
   },
   "source": [
    "## kaggle - competiciones de data science, contenido de dataset, puede encontrarce informacion de como leer Dataset\n",
    "\n",
    "# Fin del video 57 y del Notebook"
   ]
  },
  {
   "cell_type": "code",
   "execution_count": null,
   "metadata": {},
   "outputs": [],
   "source": []
  }
 ],
 "metadata": {
  "colab": {
   "include_colab_link": true,
   "name": "T2 - 3 - Data Cleaning - Agrupación de datos.ipynb",
   "provenance": []
  },
  "kernelspec": {
   "display_name": "Python 3 (ipykernel)",
   "language": "python",
   "name": "python3"
  },
  "language_info": {
   "codemirror_mode": {
    "name": "ipython",
    "version": 3
   },
   "file_extension": ".py",
   "mimetype": "text/x-python",
   "name": "python",
   "nbconvert_exporter": "python",
   "pygments_lexer": "ipython3",
   "version": "3.7.16"
  }
 },
 "nbformat": 4,
 "nbformat_minor": 1
}

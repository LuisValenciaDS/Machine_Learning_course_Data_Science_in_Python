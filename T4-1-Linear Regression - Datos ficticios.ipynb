{
 "cells": [
  {
   "cell_type": "markdown",
   "metadata": {},
   "source": [
    "# Modelos de Regresión Lineal\n",
    "## Modelo con datos simulados\n",
    "* y = a + b * x\n",
    "* X : 100 valores distribuídos según una N(1.5, 2.5) => Distribucion Normal(media, deviacion estandar)\n",
    "* Y estimada Ye = 5 + 1.9 * x + e => Calcular a y b utilizando la tecnica de la regrecion lineal y ver como se comportan los cabion en la eficacia del modelo.\n",
    "* e estará distribuído según una N(0, 0.8) => error centredo en media 0 para no probocar desplazamientos en el modelo"
   ]
  },
  {
   "cell_type": "code",
   "execution_count": 1,
   "metadata": {},
   "outputs": [],
   "source": [
    "import pandas as pd\n",
    "import numpy as np"
   ]
  },
  {
   "cell_type": "code",
   "execution_count": 2,
   "metadata": {},
   "outputs": [],
   "source": [
    "x = 1.5 + 2.5 * np.random.randn(100) # np.random.randn(100) => Genera la normal de tamaño 100"
   ]
  },
  {
   "cell_type": "code",
   "execution_count": 3,
   "metadata": {},
   "outputs": [],
   "source": [
    "res = 0 + 0.8 * np.random.randn(100) # Reciduo o errore con distribucion normal"
   ]
  },
  {
   "cell_type": "code",
   "execution_count": 4,
   "metadata": {},
   "outputs": [],
   "source": [
    "y_pred = 5 + 0.3 * x # Y de la predicion segun lo escrito, lo que devuelve el modelo lineal"
   ]
  },
  {
   "cell_type": "code",
   "execution_count": 5,
   "metadata": {},
   "outputs": [],
   "source": [
    "y_act = 5 + 0.3 * x + res # Y actual es lo que observamos, son los datos con los que se cuenta"
   ]
  },
  {
   "cell_type": "markdown",
   "metadata": {},
   "source": [
    "#### Crando el Dataframe de datos\n",
    "\n",
    "Ordenar para formato lsita del data frame"
   ]
  },
  {
   "cell_type": "code",
   "execution_count": 6,
   "metadata": {},
   "outputs": [],
   "source": [
    "# comvercion de los tres arrays a lista\n",
    "x_list = x.tolist() # pasando x a lista\n",
    "y_pred_list = y_pred.tolist() # pasando y_pred a lista\n",
    "y_act_list = y_act.tolist() # y_act => Datos que realmente se tienen a lista\n",
    "\n"
   ]
  },
  {
   "cell_type": "code",
   "execution_count": 7,
   "metadata": {},
   "outputs": [],
   "source": [
    "# Creando Data Frame\n",
    "# Se crea un diccionario con las claves y los valores\n",
    "data = pd.DataFrame(\n",
    "    {\n",
    "        \"x\":x_list,\n",
    "        \"y_actual\":y_act_list,\n",
    "        \"y_prediccion\":y_pred_list\n",
    "    }\n",
    ")"
   ]
  },
  {
   "cell_type": "code",
   "execution_count": 8,
   "metadata": {},
   "outputs": [
    {
     "data": {
      "text/html": [
       "<div>\n",
       "<style scoped>\n",
       "    .dataframe tbody tr th:only-of-type {\n",
       "        vertical-align: middle;\n",
       "    }\n",
       "\n",
       "    .dataframe tbody tr th {\n",
       "        vertical-align: top;\n",
       "    }\n",
       "\n",
       "    .dataframe thead th {\n",
       "        text-align: right;\n",
       "    }\n",
       "</style>\n",
       "<table border=\"1\" class=\"dataframe\">\n",
       "  <thead>\n",
       "    <tr style=\"text-align: right;\">\n",
       "      <th></th>\n",
       "      <th>x</th>\n",
       "      <th>y_actual</th>\n",
       "      <th>y_prediccion</th>\n",
       "    </tr>\n",
       "  </thead>\n",
       "  <tbody>\n",
       "    <tr>\n",
       "      <th>0</th>\n",
       "      <td>1.492252</td>\n",
       "      <td>6.155649</td>\n",
       "      <td>5.447675</td>\n",
       "    </tr>\n",
       "    <tr>\n",
       "      <th>1</th>\n",
       "      <td>4.221900</td>\n",
       "      <td>6.832313</td>\n",
       "      <td>6.266570</td>\n",
       "    </tr>\n",
       "    <tr>\n",
       "      <th>2</th>\n",
       "      <td>-0.442158</td>\n",
       "      <td>3.338905</td>\n",
       "      <td>4.867353</td>\n",
       "    </tr>\n",
       "    <tr>\n",
       "      <th>3</th>\n",
       "      <td>3.889511</td>\n",
       "      <td>5.493539</td>\n",
       "      <td>6.166853</td>\n",
       "    </tr>\n",
       "    <tr>\n",
       "      <th>4</th>\n",
       "      <td>0.701185</td>\n",
       "      <td>3.268856</td>\n",
       "      <td>5.210356</td>\n",
       "    </tr>\n",
       "  </tbody>\n",
       "</table>\n",
       "</div>"
      ],
      "text/plain": [
       "          x  y_actual  y_prediccion\n",
       "0  1.492252  6.155649      5.447675\n",
       "1  4.221900  6.832313      6.266570\n",
       "2 -0.442158  3.338905      4.867353\n",
       "3  3.889511  5.493539      6.166853\n",
       "4  0.701185  3.268856      5.210356"
      ]
     },
     "execution_count": 8,
     "metadata": {},
     "output_type": "execute_result"
    }
   ],
   "source": [
    "# Ver el Dataframe creado\n",
    "data.head() "
   ]
  },
  {
   "cell_type": "code",
   "execution_count": 9,
   "metadata": {},
   "outputs": [],
   "source": [
    "# Realizar un plot del valor actual (el que somos capaces de medir) y la predicion \n",
    "# del mismo frente a la variable de entrada x.\n",
    "# PERMITE RESPODER : Simulando que alguin ya ha echo el  modelo lineal basandoce en unos \n",
    "# datos, lo que se quiere comprobar es que tan preciso se supone que es la ecuacion \n",
    "# que se esta usando para la prediccion con respecto a los valores que realmente se tienen\n",
    "\n",
    "import matplotlib.pyplot as plt # Libreria para graficos"
   ]
  },
  {
   "cell_type": "code",
   "execution_count": 10,
   "metadata": {},
   "outputs": [],
   "source": [
    "y_mean = [np.mean(y_act) for i in range(1, len(x_list) + 1)] # vector, promedio de las Y's"
   ]
  },
  {
   "cell_type": "code",
   "execution_count": 11,
   "metadata": {},
   "outputs": [
    {
     "data": {
      "text/plain": [
       "Text(0.5, 1.0, 'Valor Actual vs Predicción')"
      ]
     },
     "execution_count": 11,
     "metadata": {},
     "output_type": "execute_result"
    },
    {
     "data": {
      "image/png": "[encoded data removed]",
      "text/plain": [
       "<Figure size 640x480 with 1 Axes>"
      ]
     },
     "metadata": {},
     "output_type": "display_data"
    }
   ],
   "source": [
    "# Grafico que reprecente todo en un mismo sitio\n",
    "%matplotlib inline\n",
    "plt.plot(data[\"x\"],data[\"y_prediccion\"])\n",
    "plt.plot(data[\"x\"], data[\"y_actual\"], \"ro\") # ro => Color Rojo\n",
    "plt.plot(data[\"x\"],y_mean, \"g\")\n",
    "plt.title(\"Valor Actual vs Predicción\")\n",
    "\n",
    "# ¿Por que se decidio pintar el Y promedio de toas las Y_actuale en el mismo grafico?\n",
    "# R/ En el caso que no se tiene un modelo predictor demaciado bueno lo mejor que se \n",
    "# puede hacer es elegir el promedio de los valores observados y decidir si ese \n",
    "# promedio es una bueno forma o  no de predecir los valores.\n",
    "\n",
    "# Otoro punto para jusgar la eficacia del modelo si se tienen dos variables, \n",
    "# una de entrada y otra de salida, es ver los valores de alfa y beta\n",
    "# que el programa estaistico genera, como entender los valores en python o en R\n",
    "# SSD => Suma del cuadrado de las diferencias,es la distancia del punto real al modelo predictivo \n",
    "# SST => Suma de los cuadrados totales, es la distacia del punto real al promedio de Y\n",
    "# SSR => Suma de los cuadrado de la regrecion, es la distacia de la prediccion al promedio \n",
    "# SST = SSR + SSD,  SST tambien la suma total del error total cometido,\n",
    "# lo que mas importa es que SSR se grande y SSD sea pequeño, lo que se quiere es que \n",
    "# SSR se hacerque  lo mas pocible a SST\n",
    "# para sober si una regrecion es util o no se tiene el estadistico R^2 = SSR/SST , valor \n",
    "# entre 0 y 1, entre mas cerca a uno mejor sera el modelo comparar dos modelos con \n",
    "# factores de R^2=0.6 y R^2=0.9, el que mojor explicaria los datos seria del modelo es R^2=0.9 \n",
    "# R^2 es solo un modo de medir por lo cual no se debe tomar como valor decisorio final, \n",
    "# solo es un buen indicador que el modelo de regrecion lineal es efectivo"
   ]
  },
  {
   "cell_type": "markdown",
   "metadata": {},
   "source": [
    "## ¿Como es la predicción de buena?\n",
    "* SST = SSD + SSR\n",
    "* SST : Variabilidad de los datos con respecto de su media\n",
    "* SSD : Diferencia entre los datos originales y las predicciones que el modelo no es capaz de explicar (errores que deberían seguir una distribución normal)\n",
    "* SSR : Diferencia entre la regresión y el valor medio que el modelo busca explicar\n",
    "* R2 = SSR / SST, coeficiente de determinación entre 0 y 1"
   ]
  },
  {
   "cell_type": "code",
   "execution_count": 12,
   "metadata": {},
   "outputs": [],
   "source": [
    "# Añadir las columnas SSR, SSD y SST al dataset\n",
    "y_m = np.mean(y_act)\n",
    "data[\"SSR\"]=(data[\"y_prediccion\"]-y_m)**2\n",
    "data[\"SSD\"]=(data[\"y_prediccion\"]-data[\"y_actual\"])**2\n",
    "data[\"SST\"]=(data[\"y_actual\"]-y_m)**2"
   ]
  },
  {
   "cell_type": "code",
   "execution_count": 13,
   "metadata": {},
   "outputs": [
    {
     "data": {
      "text/html": [
       "<div>\n",
       "<style scoped>\n",
       "    .dataframe tbody tr th:only-of-type {\n",
       "        vertical-align: middle;\n",
       "    }\n",
       "\n",
       "    .dataframe tbody tr th {\n",
       "        vertical-align: top;\n",
       "    }\n",
       "\n",
       "    .dataframe thead th {\n",
       "        text-align: right;\n",
       "    }\n",
       "</style>\n",
       "<table border=\"1\" class=\"dataframe\">\n",
       "  <thead>\n",
       "    <tr style=\"text-align: right;\">\n",
       "      <th></th>\n",
       "      <th>x</th>\n",
       "      <th>y_actual</th>\n",
       "      <th>y_prediccion</th>\n",
       "      <th>SSR</th>\n",
       "      <th>SSD</th>\n",
       "      <th>SST</th>\n",
       "    </tr>\n",
       "  </thead>\n",
       "  <tbody>\n",
       "    <tr>\n",
       "      <th>0</th>\n",
       "      <td>1.492252</td>\n",
       "      <td>6.155649</td>\n",
       "      <td>5.447675</td>\n",
       "      <td>0.004234</td>\n",
       "      <td>0.501226</td>\n",
       "      <td>0.597598</td>\n",
       "    </tr>\n",
       "    <tr>\n",
       "      <th>1</th>\n",
       "      <td>4.221900</td>\n",
       "      <td>6.832313</td>\n",
       "      <td>6.266570</td>\n",
       "      <td>0.781397</td>\n",
       "      <td>0.320065</td>\n",
       "      <td>2.101658</td>\n",
       "    </tr>\n",
       "    <tr>\n",
       "      <th>2</th>\n",
       "      <td>-0.442158</td>\n",
       "      <td>3.338905</td>\n",
       "      <td>4.867353</td>\n",
       "      <td>0.265484</td>\n",
       "      <td>2.336153</td>\n",
       "      <td>4.176706</td>\n",
       "    </tr>\n",
       "    <tr>\n",
       "      <th>3</th>\n",
       "      <td>3.889511</td>\n",
       "      <td>5.493539</td>\n",
       "      <td>6.166853</td>\n",
       "      <td>0.615048</td>\n",
       "      <td>0.453352</td>\n",
       "      <td>0.012307</td>\n",
       "    </tr>\n",
       "    <tr>\n",
       "      <th>4</th>\n",
       "      <td>0.701185</td>\n",
       "      <td>3.268856</td>\n",
       "      <td>5.210356</td>\n",
       "      <td>0.029669</td>\n",
       "      <td>3.769420</td>\n",
       "      <td>4.467929</td>\n",
       "    </tr>\n",
       "  </tbody>\n",
       "</table>\n",
       "</div>"
      ],
      "text/plain": [
       "          x  y_actual  y_prediccion       SSR       SSD       SST\n",
       "0  1.492252  6.155649      5.447675  0.004234  0.501226  0.597598\n",
       "1  4.221900  6.832313      6.266570  0.781397  0.320065  2.101658\n",
       "2 -0.442158  3.338905      4.867353  0.265484  2.336153  4.176706\n",
       "3  3.889511  5.493539      6.166853  0.615048  0.453352  0.012307\n",
       "4  0.701185  3.268856      5.210356  0.029669  3.769420  4.467929"
      ]
     },
     "execution_count": 13,
     "metadata": {},
     "output_type": "execute_result"
    }
   ],
   "source": [
    "data.head()"
   ]
  },
  {
   "cell_type": "code",
   "execution_count": 14,
   "metadata": {},
   "outputs": [],
   "source": [
    "# Suma de los cuadrados de las diferencias SSR, SSD y SST \n",
    "SSR = sum(data[\"SSR\"])\n",
    "SSD = sum(data[\"SSD\"])\n",
    "SST = sum(data[\"SST\"])"
   ]
  },
  {
   "cell_type": "code",
   "execution_count": 15,
   "metadata": {},
   "outputs": [
    {
     "data": {
      "text/plain": [
       "51.44429206823503"
      ]
     },
     "execution_count": 15,
     "metadata": {},
     "output_type": "execute_result"
    }
   ],
   "source": [
    "SSR"
   ]
  },
  {
   "cell_type": "code",
   "execution_count": 16,
   "metadata": {},
   "outputs": [
    {
     "data": {
      "text/plain": [
       "69.72765287085554"
      ]
     },
     "execution_count": 16,
     "metadata": {},
     "output_type": "execute_result"
    }
   ],
   "source": [
    "SSD"
   ]
  },
  {
   "cell_type": "code",
   "execution_count": 17,
   "metadata": {},
   "outputs": [
    {
     "data": {
      "text/plain": [
       "117.40759608328638"
      ]
     },
     "execution_count": 17,
     "metadata": {},
     "output_type": "execute_result"
    }
   ],
   "source": [
    "SST"
   ]
  },
  {
   "cell_type": "code",
   "execution_count": 18,
   "metadata": {},
   "outputs": [
    {
     "data": {
      "text/plain": [
       "121.17194493909057"
      ]
     },
     "execution_count": 18,
     "metadata": {},
     "output_type": "execute_result"
    }
   ],
   "source": [
    "SSR+SSD"
   ]
  },
  {
   "cell_type": "code",
   "execution_count": 19,
   "metadata": {},
   "outputs": [],
   "source": [
    "R2 = SSR/SST"
   ]
  },
  {
   "cell_type": "code",
   "execution_count": 20,
   "metadata": {},
   "outputs": [
    {
     "data": {
      "text/plain": [
       "0.43816834501697466"
      ]
     },
     "execution_count": 20,
     "metadata": {},
     "output_type": "execute_result"
    }
   ],
   "source": [
    "R2"
   ]
  },
  {
   "cell_type": "code",
   "execution_count": 21,
   "metadata": {},
   "outputs": [
    {
     "data": {
      "text/plain": [
       "(array([ 3., 10., 14., 22., 23., 18.,  4.,  4.,  1.,  1.]),\n",
       " array([-1.90110978, -1.43154868, -0.96198757, -0.49242647, -0.02286536,\n",
       "         0.44669575,  0.91625685,  1.38581796,  1.85537907,  2.32494017,\n",
       "         2.79450128]),\n",
       " <BarContainer object of 10 artists>)"
      ]
     },
     "execution_count": 21,
     "metadata": {},
     "output_type": "execute_result"
    },
    {
     "data": {
      "image/png": "[encoded data removed]",
      "text/plain": [
       "<Figure size 640x480 with 1 Axes>"
      ]
     },
     "metadata": {},
     "output_type": "display_data"
    }
   ],
   "source": [
    "# Observar graficamente la distribucion normal de SSD, (la distribucion del error)\n",
    "plt.hist(data[\"y_prediccion\"]-data[\"y_actual\"])"
   ]
  },
  {
   "cell_type": "markdown",
   "metadata": {},
   "source": [
    "## Obteniendo la recta de regresión lineal\n",
    "\n",
    "* y = a + b * x\n",
    "* b = sum((xi - x_m)*(y_i-y_m))/sum((xi-x_m)^2)\n",
    "* a = y_m - b * x_m"
   ]
  },
  {
   "cell_type": "code",
   "execution_count": 22,
   "metadata": {},
   "outputs": [
    {
     "data": {
      "text/plain": [
       "(1.366513611133166, 5.382603657023449)"
      ]
     },
     "execution_count": 22,
     "metadata": {},
     "output_type": "execute_result"
    }
   ],
   "source": [
    "x_mean = np.mean(data[\"x\"]) # Media de x\n",
    "y_mean = np.mean(data[\"y_actual\"]) # Media de Y, raya verde orizontal anterior\n",
    "x_mean, y_mean"
   ]
  },
  {
   "cell_type": "code",
   "execution_count": 23,
   "metadata": {},
   "outputs": [],
   "source": [
    "data[\"beta_n\"] = (data[\"x\"]-x_mean)*(data[\"y_actual\"]-y_mean) # numerador de la beta (covarianza)\n",
    "data[\"beta_d\"] = (data[\"x\"]-x_mean)**2 # varianza de x, denominador"
   ]
  },
  {
   "cell_type": "code",
   "execution_count": 24,
   "metadata": {},
   "outputs": [],
   "source": [
    "beta = sum(data[\"beta_n\"])/sum(data[\"beta_d\"])"
   ]
  },
  {
   "cell_type": "code",
   "execution_count": 25,
   "metadata": {},
   "outputs": [],
   "source": [
    "alpha = y_mean - beta * x_mean"
   ]
  },
  {
   "cell_type": "code",
   "execution_count": 26,
   "metadata": {},
   "outputs": [
    {
     "data": {
      "text/plain": [
       "(4.987073284814425, 0.28944488293902526)"
      ]
     },
     "execution_count": 26,
     "metadata": {},
     "output_type": "execute_result"
    }
   ],
   "source": [
    "alpha, beta"
   ]
  },
  {
   "cell_type": "markdown",
   "metadata": {},
   "source": [
    "El modelo lineal obtenido por regresión es:\n",
    "y = 5.042341442370516 + 1.9044490309709992 * x"
   ]
  },
  {
   "cell_type": "code",
   "execution_count": 27,
   "metadata": {},
   "outputs": [],
   "source": [
    "data[\"y_model\"] = alpha + beta * data[\"x\"]"
   ]
  },
  {
   "cell_type": "code",
   "execution_count": 28,
   "metadata": {},
   "outputs": [
    {
     "data": {
      "text/html": [
       "<div>\n",
       "<style scoped>\n",
       "    .dataframe tbody tr th:only-of-type {\n",
       "        vertical-align: middle;\n",
       "    }\n",
       "\n",
       "    .dataframe tbody tr th {\n",
       "        vertical-align: top;\n",
       "    }\n",
       "\n",
       "    .dataframe thead th {\n",
       "        text-align: right;\n",
       "    }\n",
       "</style>\n",
       "<table border=\"1\" class=\"dataframe\">\n",
       "  <thead>\n",
       "    <tr style=\"text-align: right;\">\n",
       "      <th></th>\n",
       "      <th>x</th>\n",
       "      <th>y_actual</th>\n",
       "      <th>y_prediccion</th>\n",
       "      <th>SSR</th>\n",
       "      <th>SSD</th>\n",
       "      <th>SST</th>\n",
       "      <th>beta_n</th>\n",
       "      <th>beta_d</th>\n",
       "      <th>y_model</th>\n",
       "    </tr>\n",
       "  </thead>\n",
       "  <tbody>\n",
       "    <tr>\n",
       "      <th>0</th>\n",
       "      <td>1.492252</td>\n",
       "      <td>6.155649</td>\n",
       "      <td>5.447675</td>\n",
       "      <td>0.004234</td>\n",
       "      <td>0.501226</td>\n",
       "      <td>0.597598</td>\n",
       "      <td>0.097201</td>\n",
       "      <td>0.015810</td>\n",
       "      <td>5.418998</td>\n",
       "    </tr>\n",
       "    <tr>\n",
       "      <th>1</th>\n",
       "      <td>4.221900</td>\n",
       "      <td>6.832313</td>\n",
       "      <td>6.266570</td>\n",
       "      <td>0.781397</td>\n",
       "      <td>0.320065</td>\n",
       "      <td>2.101658</td>\n",
       "      <td>4.139482</td>\n",
       "      <td>8.153234</td>\n",
       "      <td>6.209081</td>\n",
       "    </tr>\n",
       "    <tr>\n",
       "      <th>2</th>\n",
       "      <td>-0.442158</td>\n",
       "      <td>3.338905</td>\n",
       "      <td>4.867353</td>\n",
       "      <td>0.265484</td>\n",
       "      <td>2.336153</td>\n",
       "      <td>4.176706</td>\n",
       "      <td>3.696380</td>\n",
       "      <td>3.271292</td>\n",
       "      <td>4.859093</td>\n",
       "    </tr>\n",
       "    <tr>\n",
       "      <th>3</th>\n",
       "      <td>3.889511</td>\n",
       "      <td>5.493539</td>\n",
       "      <td>6.166853</td>\n",
       "      <td>0.615048</td>\n",
       "      <td>0.453352</td>\n",
       "      <td>0.012307</td>\n",
       "      <td>0.279889</td>\n",
       "      <td>6.365517</td>\n",
       "      <td>6.112872</td>\n",
       "    </tr>\n",
       "    <tr>\n",
       "      <th>4</th>\n",
       "      <td>0.701185</td>\n",
       "      <td>3.268856</td>\n",
       "      <td>5.210356</td>\n",
       "      <td>0.029669</td>\n",
       "      <td>3.769420</td>\n",
       "      <td>4.467929</td>\n",
       "      <td>1.406337</td>\n",
       "      <td>0.442662</td>\n",
       "      <td>5.190028</td>\n",
       "    </tr>\n",
       "  </tbody>\n",
       "</table>\n",
       "</div>"
      ],
      "text/plain": [
       "          x  y_actual  y_prediccion       SSR       SSD       SST    beta_n  \\\n",
       "0  1.492252  6.155649      5.447675  0.004234  0.501226  0.597598  0.097201   \n",
       "1  4.221900  6.832313      6.266570  0.781397  0.320065  2.101658  4.139482   \n",
       "2 -0.442158  3.338905      4.867353  0.265484  2.336153  4.176706  3.696380   \n",
       "3  3.889511  5.493539      6.166853  0.615048  0.453352  0.012307  0.279889   \n",
       "4  0.701185  3.268856      5.210356  0.029669  3.769420  4.467929  1.406337   \n",
       "\n",
       "     beta_d   y_model  \n",
       "0  0.015810  5.418998  \n",
       "1  8.153234  6.209081  \n",
       "2  3.271292  4.859093  \n",
       "3  6.365517  6.112872  \n",
       "4  0.442662  5.190028  "
      ]
     },
     "execution_count": 28,
     "metadata": {},
     "output_type": "execute_result"
    }
   ],
   "source": [
    "data.head()"
   ]
  },
  {
   "cell_type": "code",
   "execution_count": 29,
   "metadata": {},
   "outputs": [],
   "source": [
    "# Comparar el coeficiente de determinacion R^2 se ajusta mejor que el anterior\n",
    "SSR = sum((data[\"y_model\"]-y_mean)**2)\n",
    "SSD = sum((data[\"y_model\"]-data[\"y_actual\"])**2)\n",
    "SST = sum((data[\"y_actual\"]-y_mean)**2)"
   ]
  },
  {
   "cell_type": "code",
   "execution_count": 30,
   "metadata": {},
   "outputs": [
    {
     "data": {
      "text/plain": [
       "(47.81833779538783, 69.5892582878984, 117.40759608328638)"
      ]
     },
     "execution_count": 30,
     "metadata": {},
     "output_type": "execute_result"
    }
   ],
   "source": [
    "SSR, SSD, SST"
   ]
  },
  {
   "cell_type": "code",
   "execution_count": 31,
   "metadata": {},
   "outputs": [
    {
     "data": {
      "text/plain": [
       "0.40728487244953515"
      ]
     },
     "execution_count": 31,
     "metadata": {},
     "output_type": "execute_result"
    }
   ],
   "source": [
    "R2 = SSR / SST\n",
    "R2"
   ]
  },
  {
   "cell_type": "code",
   "execution_count": 32,
   "metadata": {},
   "outputs": [
    {
     "data": {
      "text/plain": [
       "Text(0.5, 1.0, 'Valor Actual vs Predicción')"
      ]
     },
     "execution_count": 32,
     "metadata": {},
     "output_type": "execute_result"
    },
    {
     "data": {
      "image/png": "[encoded data removed]",
      "text/plain": [
       "<Figure size 640x480 with 1 Axes>"
      ]
     },
     "metadata": {},
     "output_type": "display_data"
    }
   ],
   "source": [
    "y_mean = [np.mean(y_act) for i in range(1, len(x_list) + 1)] # Valor deve reacalcularce \n",
    "# para el nuevo modelo \n",
    "# SST no cambiara debido a que es la distancia que separa el dato real con el promedio\n",
    "# SST => Cuanto porcentaje de datos es capas de eplicar el modelo, lasuma de los cuadrados\n",
    "# de los residuos acabaria siendo igual a la suma de los cuadrados totales y por tanto el \n",
    "# factor R^2 seria 1\n",
    "\n",
    "# CAUNDO LOS DATOS ESTAN MUY DISPERSOS TALVES EL MODELO LINEAL NO SEA EL MOJOR DE LOS \n",
    "# METODOS PARA REPRECENTAR LOS DATOS\n",
    "%matplotlib inline\n",
    "plt.plot(data[\"x\"],data[\"y_prediccion\"])\n",
    "plt.plot(data[\"x\"], data[\"y_actual\"], \"ro\")\n",
    "plt.plot(data[\"x\"],y_mean, \"g\")\n",
    "plt.plot(data[\"x\"], data[\"y_model\"])\n",
    "plt.title(\"Valor Actual vs Predicción\")"
   ]
  },
  {
   "cell_type": "markdown",
   "metadata": {},
   "source": [
    "## Error estándar de los residuos (RSE)"
   ]
  },
  {
   "cell_type": "code",
   "execution_count": 33,
   "metadata": {},
   "outputs": [
    {
     "data": {
      "text/plain": [
       "0.8426710344645139"
      ]
     },
     "execution_count": 33,
     "metadata": {},
     "output_type": "execute_result"
    }
   ],
   "source": [
    "RSE = np.sqrt(SSD/(len(data)-2))\n",
    "RSE"
   ]
  },
  {
   "cell_type": "code",
   "execution_count": 34,
   "metadata": {},
   "outputs": [
    {
     "data": {
      "text/plain": [
       "5.382603657023449"
      ]
     },
     "execution_count": 34,
     "metadata": {},
     "output_type": "execute_result"
    }
   ],
   "source": [
    "np.mean(data[\"y_actual\"])"
   ]
  },
  {
   "cell_type": "code",
   "execution_count": 35,
   "metadata": {},
   "outputs": [
    {
     "data": {
      "text/plain": [
       "0.15655453905935673"
      ]
     },
     "execution_count": 35,
     "metadata": {},
     "output_type": "execute_result"
    }
   ],
   "source": [
    "RSE / np.mean(data[\"y_actual\"])"
   ]
  }
 ],
 "metadata": {
  "kernelspec": {
   "display_name": "Python 3 (ipykernel)",
   "language": "python",
   "name": "python3"
  },
  "language_info": {
   "codemirror_mode": {
    "name": "ipython",
    "version": 3
   },
   "file_extension": ".py",
   "mimetype": "text/x-python",
   "name": "python",
   "nbconvert_exporter": "python",
   "pygments_lexer": "ipython3",
   "version": "3.7.16"
  }
 },
 "nbformat": 4,
 "nbformat_minor": 2
}
